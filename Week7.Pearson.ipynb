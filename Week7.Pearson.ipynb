{
 "cells": [
  {
   "cell_type": "code",
   "execution_count": 43,
   "metadata": {},
   "outputs": [],
   "source": [
    "import pandas as pd\n",
    "import numpy as np\n",
    "import statsmodels.stats.multicomp as multi \n",
    "import statsmodels.formula.api as smf\n"
   ]
  },
  {
   "cell_type": "code",
   "execution_count": 152,
   "metadata": {},
   "outputs": [],
   "source": [
    "add_health = pd.read_csv(\"add_health.csv\", low_memory=False)"
   ]
  },
  {
   "cell_type": "markdown",
   "metadata": {},
   "source": [
    "# Handling variables for check: alcohol consumption and skipped days at school\n",
    "Bare in mind, that originally it's a string variable, because of \"Skip\" answer, which is marked as \" \""
   ]
  },
  {
   "cell_type": "code",
   "execution_count": 153,
   "metadata": {},
   "outputs": [],
   "source": [
    "add_health['SCHSKIP'] = pd.to_numeric(add_health['H1ED2'].replace([\"996\",\"997\", \"998\", \" \"], np.NaN))"
   ]
  },
  {
   "cell_type": "code",
   "execution_count": 155,
   "metadata": {},
   "outputs": [],
   "source": [
    "add_health['ALCTIMESYEAR'] = pd.to_numeric(add_health['H1TO15'].replace([96,97,98], np.NaN))\n",
    "add_health['H1TO16'] = pd.to_numeric(add_health['H1TO16'].replace([96,97, 98, 99], np.NaN))\n",
    "add_health.loc[add_health['H1TO15'] == 1, 'ALCTIMESYEAR'] = 365 #every day\n",
    "add_health.loc[add_health['H1TO15'] == 2, 'ALCTIMESYEAR'] = 4*52 #3-5 times per week\n",
    "add_health.loc[add_health['H1TO15'] == 3, 'ALCTIMESYEAR'] = 1.5*52 #2-3 times per week\n",
    "add_health.loc[add_health['H1TO15'] == 4, 'ALCTIMESYEAR'] = 2.5*12 #2-3 times per month\n",
    "add_health.loc[add_health['H1TO15'] == 5, 'ALCTIMESYEAR'] = 10\n",
    "add_health.loc[add_health['H1TO15'] == 6, 'ALCTIMESYEAR'] = 1.5\n",
    "add_health.loc[add_health['H1TO15'] == 7, 'ALCTIMESYEAR'] = 0.1\n",
    "add_health['ALCCONS'] = add_health['ALCTIMESYEAR']*add_health['H1TO16']"
   ]
  },
  {
   "cell_type": "code",
   "execution_count": 156,
   "metadata": {},
   "outputs": [],
   "source": [
    "add_health['SIGCTIMESYEAR'] = pd.to_numeric(add_health['H1TO5'].replace([96,97,98], np.NaN))\n",
    "add_health['H1TO7'] = pd.to_numeric(add_health['H1TO7'].replace([96,97, 98, 99], np.NaN))\n",
    "add_health = add_health.drop(add_health[add_health['SIGCTIMESYEAR'] == np.NaN].index)\n",
    "add_health = add_health.drop(add_health[add_health['H1TO7'] == np.NaN].index)\n",
    "\n",
    "add_health = add_health.drop(add_health[add_health['SIGCTIMESYEAR'] == np.NaN].index)\n",
    "add_health = add_health.drop(add_health[add_health['H1TO16'] == np.NaN].index)\n",
    "add_health['SIGCCONS'] = add_health['SIGCTIMESYEAR']*add_health['H1TO7']\n"
   ]
  },
  {
   "cell_type": "code",
   "execution_count": 160,
   "metadata": {},
   "outputs": [],
   "source": [
    "add_health['MARJUSAGE'] = pd.to_numeric(add_health['H1TO31'].replace([\"996\",\"997\", \"998\", \"999\"], np.NaN))\n",
    "add_health = add_health.drop(add_health[add_health['MARJUSAGE'] == np.NaN].index)\n"
   ]
  },
  {
   "cell_type": "code",
   "execution_count": 161,
   "metadata": {},
   "outputs": [],
   "source": [
    "add_health['COCUSAGE'] = pd.to_numeric(add_health['H1TO36'].replace([\"996\",\"997\", \"998\", \"999\"], np.NaN))\n",
    "add_health['GLUEUSAGE'] = pd.to_numeric(add_health['H1TO38'].replace([\"996\",\"997\", \"998\", \"999\", \" \"], np.NaN))\n",
    "add_health['FIGHTS'] = pd.to_numeric(add_health['H1FV13'].replace([\"996\",\"997\", \"998\", \"999\", \" \"], np.NaN))\n"
   ]
  },
  {
   "cell_type": "code",
   "execution_count": 163,
   "metadata": {},
   "outputs": [],
   "source": [
    "add_health['WORKH'] = pd.to_numeric(add_health['H1EE4'].replace([\"996\",\"997\", \"998\", \"999\"], np.NaN))\n",
    "add_health = add_health.drop(add_health[add_health['WORKH'] == np.NaN].index)\n",
    "\n",
    "add_health['WORKP'] = pd.to_numeric(add_health['H1EE5'].replace([\"996\",\"997\", \"998\", \"999\"], np.NaN))\n",
    "add_health = add_health.drop(add_health[add_health['WORKP'] == np.NaN].index)\n",
    "\n",
    "add_health['WORKHS'] = pd.to_numeric(add_health['H1EE6'].replace([\"996\",\"997\", \"998\", \"999\", \" \"], np.NaN))\n",
    "add_health = add_health.drop(add_health[add_health['WORKHS'] == np.NaN].index)\n",
    "\n",
    "add_health['WORKPS'] = pd.to_numeric(add_health['H1EE7'].replace([\"996\",\"997\", \"998\", \"999\", \" \"], np.NaN))\n",
    "add_health = add_health.drop(add_health[add_health['WORKPS'] == np.NaN].index)\n",
    "\n",
    "add_health = add_health.drop(add_health[np.isnan(add_health['WORKP'])].index)\n",
    "add_health = add_health.drop(add_health[np.isnan(add_health['WORKH'])].index)\n",
    "add_health = add_health.drop(add_health[np.isnan(add_health['WORKPS'])].index)\n",
    "add_health = add_health.drop(add_health[np.isnan(add_health['WORKHS'])].index)\n"
   ]
  },
  {
   "cell_type": "code",
   "execution_count": 164,
   "metadata": {},
   "outputs": [],
   "source": [
    "add_health = add_health.drop(add_health[np.isnan(add_health['ALCCONS'])].index)\n",
    "add_health = add_health.drop(add_health[np.isnan(add_health['SIGCCONS'])].index)\n",
    "add_health = add_health.drop(add_health[np.isnan(add_health['SCHSKIP'])].index)\n"
   ]
  },
  {
   "cell_type": "code",
   "execution_count": 165,
   "metadata": {},
   "outputs": [],
   "source": [
    "add_health = add_health.drop(add_health[np.isnan(add_health['COCUSAGE'])].index)\n",
    "add_health = add_health.drop(add_health[np.isnan(add_health['GLUEUSAGE'])].index)\n",
    "add_health = add_health.drop(add_health[np.isnan(add_health['FIGHTS'])].index)\n"
   ]
  },
  {
   "cell_type": "code",
   "execution_count": 166,
   "metadata": {},
   "outputs": [
    {
     "data": {
      "image/png": "[encoded data removed]",
      "text/plain": [
       "<Figure size 432x288 with 1 Axes>"
      ]
     },
     "metadata": {
      "needs_background": "light"
     },
     "output_type": "display_data"
    }
   ],
   "source": [
    "import matplotlib.pyplot as plt\n",
    "\n",
    "plt.scatter(add_health['SIGCCONS'], add_health['ALCCONS'])\n",
    "plt.title('Cigarettes Vs. Alcohol Consumption')\n",
    "plt.show()"
   ]
  },
  {
   "cell_type": "code",
   "execution_count": 167,
   "metadata": {},
   "outputs": [
    {
     "data": {
      "image/png": "[encoded data removed]",
      "text/plain": [
       "<Figure size 432x288 with 1 Axes>"
      ]
     },
     "metadata": {
      "needs_background": "light"
     },
     "output_type": "display_data"
    }
   ],
   "source": [
    "plt.scatter(add_health['SIGCCONS'], add_health['SCHSKIP'])\n",
    "plt.title('Cigarettes Consumption Vs. Skipping School')\n",
    "plt.show()"
   ]
  },
  {
   "cell_type": "code",
   "execution_count": 168,
   "metadata": {},
   "outputs": [
    {
     "data": {
      "image/png": "[encoded data removed]",
      "text/plain": [
       "<Figure size 432x288 with 1 Axes>"
      ]
     },
     "metadata": {
      "needs_background": "light"
     },
     "output_type": "display_data"
    }
   ],
   "source": [
    "plt.scatter(add_health['ALCCONS'], add_health['FIGHTS'])\n",
    "plt.title('Alcohol Consumption Vs. Fights amount')\n",
    "plt.show()"
   ]
  },
  {
   "cell_type": "code",
   "execution_count": null,
   "metadata": {},
   "outputs": [],
   "source": [
    "add_health = add_health.drop(add_health[np.isnan(add_health['GLUEUSAGE'])].index)\n",
    "add_health = add_health.drop(add_health[np.isnan(add_health['FIGHTS'])].index)\n",
    "\n",
    "print(np.isnan(add_health['SCHSKIP']).any())\n",
    "print(np.isnan(add_health['SIGCCONS']).any())\n",
    "print(np.isnan(add_health['MARJUSAGE']).any())\n",
    "\n",
    "print(np.isinf(add_health['SCHSKIP']).any())\n",
    "print(np.isinf(add_health['SIGCCONS']).any())\n",
    "print(np.isinf(add_health['MARJUSAGE']).any())"
   ]
  },
  {
   "cell_type": "markdown",
   "metadata": {},
   "source": [
    "# Statistical check\n",
    "### Null-hypothesis is: there's no correlation between smoking sigarettes and alcohol consumption among adolescents\n",
    "Both of the variables are quantitative, so in order to check hypothesis, Pearson correlation coefficient will be used"
   ]
  },
  {
   "cell_type": "code",
   "execution_count": 144,
   "metadata": {},
   "outputs": [
    {
     "name": "stdout",
     "output_type": "stream",
     "text": [
      "Correlation between sigarettes consumption and skipping school lessons is:\n",
      "0.3543497702137602\n",
      "p-value is: \n",
      "0.0010900817614459056\n",
      "Correlation between sigarettes consumption and alcohol consumption is:\n",
      "0.3537450028249284\n",
      "p-value is: \n",
      "0.0011132700405329728\n",
      "\n",
      "*p-value reflects probability of getting this correlation if variables are not correlated\n"
     ]
    }
   ],
   "source": [
    "import scipy\n",
    "\n",
    "print(\"Correlation between sigarettes consumption and skipping school lessons is:\")\n",
    "print (scipy.stats.pearsonr(add_health['SIGCCONS'], add_health['SCHSKIP'])[0])\n",
    "print('p-value is: \\n' + str(scipy.stats.pearsonr(add_health['SIGCCONS'], add_health['SCHSKIP'])[1]))\n",
    "\n",
    "print(\"Correlation between sigarettes consumption and alcohol consumption is:\")\n",
    "print (scipy.stats.pearsonr(add_health['SIGCCONS'], add_health['ALCCONS'])[0])\n",
    "print('p-value is: \\n' + str(scipy.stats.pearsonr(add_health['SIGCCONS'], add_health['ALCCONS'])[1]))\n",
    "\n",
    "print('\\n*p-value reflects probability of getting this correlation if variables are not correlated')\n",
    "\n"
   ]
  },
  {
   "cell_type": "code",
   "execution_count": 151,
   "metadata": {},
   "outputs": [
    {
     "name": "stdout",
     "output_type": "stream",
     "text": [
      "(-0.1460267952462805, 0.1905146854832537)\n",
      "(0.009124580868256696, 0.9351558239642218)\n",
      "\n",
      "(0.35604478172756515, 0.0010274069825153525)\n",
      "(-0.16646232525599103, 0.13499558820516266)\n",
      "(0.12281218703587973, 0.27167828127911914)\n",
      "(0.07170931326315444, 0.5220350616999564)\n",
      "(-0.05794876768069548, 0.605067223820226)\n",
      "\n",
      "(-0.5246127854542386, 4.211973847566371e-07)\n",
      "(0.7780379878742884, 8.00637729122521e-18)\n",
      "(0.34483352550050084, 0.0015109423985715947)\n"
     ]
    }
   ],
   "source": [
    "print (scipy.stats.pearsonr(add_health['MARJUSAGE'], add_health['ALCCONS']))\n",
    "print (scipy.stats.pearsonr(add_health['ALCCONS'], add_health['SCHSKIP']))\n",
    "\n",
    "print()\n",
    "\n",
    "print (scipy.stats.pearsonr(add_health['ALCCONS'], add_health['FIGHTS']))\n",
    "print (scipy.stats.pearsonr(add_health['MARJUSAGE'], add_health['FIGHTS']))\n",
    "print (scipy.stats.pearsonr(add_health['SIGCCONS'], add_health['FIGHTS']))\n",
    "print (scipy.stats.pearsonr(add_health['WORKH'], add_health['FIGHTS']))\n",
    "print (scipy.stats.pearsonr(add_health['COCUSAGE'], add_health['FIGHTS']))\n",
    "\n",
    "print()\n",
    "\n",
    "\n",
    "print (scipy.stats.pearsonr(add_health['WORKP'], add_health['WORKH']))\n",
    "print (scipy.stats.pearsonr(add_health['WORKPS'], add_health['WORKHS']))\n",
    "print (scipy.stats.pearsonr(add_health['WORKH'], add_health['WORKHS']))\n"
   ]
  },
  {
   "cell_type": "code",
   "execution_count": null,
   "metadata": {},
   "outputs": [],
   "source": []
  }
 ],
 "metadata": {
  "kernelspec": {
   "display_name": "Python 3",
   "language": "python",
   "name": "python3"
  },
  "language_info": {
   "codemirror_mode": {
    "name": "ipython",
    "version": 3
   },
   "file_extension": ".py",
   "mimetype": "text/x-python",
   "name": "python",
   "nbconvert_exporter": "python",
   "pygments_lexer": "ipython3",
   "version": "3.7.7"
  }
 },
 "nbformat": 4,
 "nbformat_minor": 4
}

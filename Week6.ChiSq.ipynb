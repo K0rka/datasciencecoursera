{
 "cells": [
  {
   "cell_type": "code",
   "execution_count": 1,
   "metadata": {},
   "outputs": [],
   "source": [
    "import pandas as pd\n",
    "import numpy as np\n",
    "import seaborn\n",
    "import matplotlib.pyplot as pyplot"
   ]
  },
  {
   "cell_type": "code",
   "execution_count": 2,
   "metadata": {},
   "outputs": [],
   "source": [
    "add_health = pd.read_csv(\"add_health.csv\", low_memory=False)"
   ]
  },
  {
   "cell_type": "code",
   "execution_count": 3,
   "metadata": {},
   "outputs": [],
   "source": [
    "# Data Management\n",
    "# Sacred texts agreement question: \n",
    "#replace answers in sacred texts to nan\n",
    "add_health['H1RE2'] = add_health['H1RE2'].replace(6, np.NaN)\n",
    "add_health['H1RE2'] = add_health['H1RE2'].replace(8, np.NaN)\n",
    "#if has no religion replace with the value disagree\n",
    "add_health['H1RE2'] = add_health['H1RE2'].replace(7, 2)\n",
    "\n",
    "#howm important is religion for you\n",
    "add_health['H1RE4'] = add_health['H1RE4'].replace(6, np.NaN)\n",
    "add_health['H1RE4'] = add_health['H1RE4'].replace(8, np.NaN)\n",
    "#if has no religion replace with the value not important\n",
    "add_health['H1RE4'] = add_health['H1RE4'].replace(7, 4)\n",
    "\n",
    "#how often do you pray\n",
    "add_health['H1RE6'] = add_health['H1RE6'].replace(6, np.NaN)\n",
    "add_health['H1RE6'] = add_health['H1RE6'].replace(8, np.NaN)\n",
    "#if has no religion replace with the value never\n",
    "add_health['H1RE6'] = add_health['H1RE6'].replace(7, 5)\n"
   ]
  },
  {
   "cell_type": "code",
   "execution_count": 4,
   "metadata": {},
   "outputs": [],
   "source": [
    "#Mom motivates you to be independant\n",
    "add_health['H1PF2'] = add_health['H1PF2'].replace(6, np.NaN)\n",
    "add_health['H1PF2'] = add_health['H1PF2'].replace(8, np.NaN)\n",
    "add_health['H1PF2'] = add_health['H1PF2'].replace(7, np.NaN)\n",
    "\n",
    "#How much you feel that people in your family understand you\n",
    "add_health['H1PR5'] = add_health['H1PR5'].replace(6, np.NaN)\n",
    "add_health['H1PR5'] = add_health['H1PR5'].replace(96, np.NaN)\n",
    "add_health['H1PR5'] = add_health['H1PR5'].replace(98, np.NaN)\n"
   ]
  },
  {
   "cell_type": "code",
   "execution_count": 5,
   "metadata": {},
   "outputs": [],
   "source": [
    "#Parents give you right to decide different aspects of your life: H1WP1 -> H1WP7\n",
    "#I will combine these columns 5 and more Yes -> encourage independance, otherwise No\n",
    "add_health[add_health.filter(regex=('H1WP[1-7]{1}$')).columns] = add_health.filter(regex=('H1WP[1-7]{1}$')).replace([6,7, 8, 9], np.NaN)\n",
    "\n",
    "add_health['H1INDCOM'] = np.where(add_health.filter(regex=('H1WP[1-7]{1}$')).sum(axis=1) > 4, 1, 0)"
   ]
  },
  {
   "cell_type": "code",
   "execution_count": 6,
   "metadata": {},
   "outputs": [],
   "source": [
    "#choose only columns, that makes interest\n",
    "selected_part = add_health[['H1RE2', 'H1RE4', 'H1RE6', 'H1PR5', 'H1PF2','H1INDCOM']]"
   ]
  },
  {
   "cell_type": "markdown",
   "metadata": {},
   "source": [
    "# Chi Squared statistics\n"
   ]
  },
  {
   "cell_type": "markdown",
   "metadata": {},
   "source": [
    "Null-hypothesis is that there's no connection between independance in family and religion importance amongst adolescents"
   ]
  },
  {
   "cell_type": "code",
   "execution_count": 9,
   "metadata": {},
   "outputs": [],
   "source": [
    "import scipy.stats\n",
    "import seaborn\n",
    "import matplotlib.pyplot as plt"
   ]
  },
  {
   "cell_type": "code",
   "execution_count": 10,
   "metadata": {},
   "outputs": [
    {
     "name": "stdout",
     "output_type": "stream",
     "text": [
      "H1RE4      1.0   2.0  3.0  4.0\n",
      "H1INDCOM                      \n",
      "0          996   599   87  322\n",
      "1         1816  1619  304  750\n",
      "H1RE4          1.0       2.0       3.0       4.0\n",
      "H1INDCOM                                        \n",
      "0         0.354196  0.270063  0.222506  0.300373\n",
      "1         0.645804  0.729937  0.777494  0.699627\n",
      "chi-square value, p value, expected counts\n",
      "(56.7566984613319, 2.8963252577509062e-12, 3, array([[ 867.89588788,  684.56368397,  120.6782689 ,  330.86215925],\n",
      "       [1944.10411212, 1533.43631603,  270.3217311 ,  741.13784075]]))\n"
     ]
    }
   ],
   "source": [
    "ct1=pd.crosstab(add_health['H1INDCOM'], add_health['H1RE4'])\n",
    "print (ct1)\n",
    "\n",
    "# column percentages\n",
    "colsum=ct1.sum(axis=0)\n",
    "colpct=ct1/colsum\n",
    "print(colpct)\n",
    "\n",
    "# chi-square\n",
    "print ('chi-square value, p value, expected counts')\n",
    "cs1= scipy.stats.chi2_contingency(ct1)\n",
    "print (cs1)\n"
   ]
  },
  {
   "cell_type": "markdown",
   "metadata": {},
   "source": [
    "As p-value is 2.8963252577509062e-12 we can reject Null-hypothesis and conclude that there's dependency in level of religion importance and independance in family. In order to understand, for which types of religion importance variable there's difference we will need to performs 6 pair-wise Chi-Squared statustics checks. \n",
    "Taking into account Bonferroni correction we will need to use alpha=0.05/6 = 0.0083 as an edge value to reject Null-Hypothesis. "
   ]
  },
  {
   "cell_type": "code",
   "execution_count": 11,
   "metadata": {},
   "outputs": [
    {
     "name": "stdout",
     "output_type": "stream",
     "text": [
      "COMP1v2    1.0   2.0\n",
      "H1INDCOM            \n",
      "0          996   599\n",
      "1         1816  1619\n",
      "COMP1v2        1.0       2.0\n",
      "H1INDCOM                    \n",
      "0         0.354196  0.270063\n",
      "1         0.645804  0.729937\n",
      "chi-square value, p value, expected counts\n",
      "(40.143849448687504, 2.3593314954877355e-10, 1, array([[ 891.67793241,  703.32206759],\n",
      "       [1920.32206759, 1514.67793241]]))\n"
     ]
    }
   ],
   "source": [
    "recode2 = {1: 1, 2: 2}\n",
    "add_health['COMP1v2']= add_health['H1RE4'].map(recode2)\n",
    "\n",
    "# contingency table of observed counts\n",
    "ct2=pd.crosstab(add_health['H1INDCOM'], add_health['COMP1v2'])\n",
    "print (ct2)\n",
    "\n",
    "# column percentages\n",
    "colsum=ct2.sum(axis=0)\n",
    "colpct=ct2/colsum\n",
    "print(colpct)\n",
    "\n",
    "print ('chi-square value, p value, expected counts')\n",
    "cs2= scipy.stats.chi2_contingency(ct2)\n",
    "print (cs2)\n"
   ]
  },
  {
   "cell_type": "code",
   "execution_count": null,
   "metadata": {},
   "outputs": [],
   "source": []
  },
  {
   "cell_type": "code",
   "execution_count": 12,
   "metadata": {},
   "outputs": [
    {
     "name": "stdout",
     "output_type": "stream",
     "text": [
      "COMP1v3    1.0  3.0\n",
      "H1INDCOM           \n",
      "0          996   87\n",
      "1         1816  304\n",
      "COMP1v3        1.0       3.0\n",
      "H1INDCOM                    \n",
      "0         0.354196  0.222506\n",
      "1         0.645804  0.777494\n",
      "chi-square value, p value, expected counts\n",
      "(26.015307195668154, 3.387210712293114e-07, 1, array([[ 950.7948798,  132.2051202],\n",
      "       [1861.2051202,  258.7948798]]))\n"
     ]
    }
   ],
   "source": [
    "recode2 = {1: 1, 3: 3}\n",
    "add_health['COMP1v3']= add_health['H1RE4'].map(recode2)\n",
    "\n",
    "# contingency table of observed counts\n",
    "ct2=pd.crosstab(add_health['H1INDCOM'], add_health['COMP1v3'])\n",
    "print (ct2)\n",
    "\n",
    "# column percentages\n",
    "colsum=ct2.sum(axis=0)\n",
    "colpct=ct2/colsum\n",
    "print(colpct)\n",
    "\n",
    "print ('chi-square value, p value, expected counts')\n",
    "cs2= scipy.stats.chi2_contingency(ct2)\n",
    "print (cs2)"
   ]
  },
  {
   "cell_type": "code",
   "execution_count": 13,
   "metadata": {},
   "outputs": [
    {
     "name": "stdout",
     "output_type": "stream",
     "text": [
      "COMP1v4    1.0  4.0\n",
      "H1INDCOM           \n",
      "0          996  322\n",
      "1         1816  750\n",
      "COMP1v4        1.0       4.0\n",
      "H1INDCOM                    \n",
      "0         0.354196  0.300373\n",
      "1         0.645804  0.699627\n",
      "chi-square value, p value, expected counts\n",
      "(9.790313808813597, 0.0017543352123602204, 1, array([[ 954.22657055,  363.77342945],\n",
      "       [1857.77342945,  708.22657055]]))\n"
     ]
    }
   ],
   "source": [
    "recode2 = {1: 1, 4: 4}\n",
    "add_health['COMP1v4']= add_health['H1RE4'].map(recode2)\n",
    "\n",
    "# contingency table of observed counts\n",
    "ct2=pd.crosstab(add_health['H1INDCOM'], add_health['COMP1v4'])\n",
    "print (ct2)\n",
    "\n",
    "# column percentages\n",
    "colsum=ct2.sum(axis=0)\n",
    "colpct=ct2/colsum\n",
    "print(colpct)\n",
    "\n",
    "print ('chi-square value, p value, expected counts')\n",
    "cs2= scipy.stats.chi2_contingency(ct2)\n",
    "print (cs2)"
   ]
  },
  {
   "cell_type": "markdown",
   "metadata": {},
   "source": [
    "p-value = 0.002 < 0.008 => Null-hypothesis can be rejected, so there's Families in which Religion is very important motivate their children to be independant significatnyl more often than those for whom religion is not important at all"
   ]
  },
  {
   "cell_type": "code",
   "execution_count": 14,
   "metadata": {},
   "outputs": [
    {
     "name": "stdout",
     "output_type": "stream",
     "text": [
      "COMP2v3    2.0  3.0\n",
      "H1INDCOM           \n",
      "0          599   87\n",
      "1         1619  304\n",
      "COMP2v3        2.0       3.0\n",
      "H1INDCOM                    \n",
      "0         0.270063  0.222506\n",
      "1         0.729937  0.777494\n",
      "chi-square value, p value, expected counts\n",
      "(3.637607858162325, 0.056488041859543155, 1, array([[ 583.1920276,  102.8079724],\n",
      "       [1634.8079724,  288.1920276]]))\n"
     ]
    }
   ],
   "source": [
    "recode2 = {2: 2, 3: 3}\n",
    "add_health['COMP2v3']= add_health['H1RE4'].map(recode2)\n",
    "\n",
    "# contingency table of observed counts\n",
    "ct2=pd.crosstab(add_health['H1INDCOM'], add_health['COMP2v3'])\n",
    "print (ct2)\n",
    "\n",
    "# column percentages\n",
    "colsum=ct2.sum(axis=0)\n",
    "colpct=ct2/colsum\n",
    "print(colpct)\n",
    "\n",
    "print ('chi-square value, p value, expected counts')\n",
    "cs2= scipy.stats.chi2_contingency(ct2)\n",
    "print (cs2)"
   ]
  },
  {
   "cell_type": "markdown",
   "metadata": {},
   "source": [
    "p-value = 0.05 > 0.008 => Null-hypothesis cannot be rejected, so there's no significant difference between families for whom religion is fairly important and for whom it is fairly unimportant"
   ]
  },
  {
   "cell_type": "code",
   "execution_count": 15,
   "metadata": {},
   "outputs": [
    {
     "name": "stdout",
     "output_type": "stream",
     "text": [
      "COMP2v4    2.0  4.0\n",
      "H1INDCOM           \n",
      "0          599  322\n",
      "1         1619  750\n",
      "COMP2v4        2.0       4.0\n",
      "H1INDCOM                    \n",
      "0         0.270063  0.300373\n",
      "1         0.729937  0.699627\n",
      "chi-square value, p value, expected counts\n",
      "(3.1451685460801864, 0.0761521328065757, 1, array([[ 620.90516717,  300.09483283],\n",
      "       [1597.09483283,  771.90516717]]))\n"
     ]
    }
   ],
   "source": [
    "recode2 = {2: 2, 4: 4}\n",
    "add_health['COMP2v4']= add_health['H1RE4'].map(recode2)\n",
    "\n",
    "# contingency table of observed counts\n",
    "ct2=pd.crosstab(add_health['H1INDCOM'], add_health['COMP2v4'])\n",
    "print (ct2)\n",
    "\n",
    "# column percentages\n",
    "colsum=ct2.sum(axis=0)\n",
    "colpct=ct2/colsum\n",
    "print(colpct)\n",
    "\n",
    "print ('chi-square value, p value, expected counts')\n",
    "cs2= scipy.stats.chi2_contingency(ct2)\n",
    "print (cs2)"
   ]
  },
  {
   "cell_type": "markdown",
   "metadata": {},
   "source": [
    "p-value = 0.07 > 0.008 => Null-hypothesis cannot be rejected, so there's no significant difference between families for whom religion is fairly important and for whom it is not important at all"
   ]
  },
  {
   "cell_type": "code",
   "execution_count": 16,
   "metadata": {},
   "outputs": [
    {
     "name": "stdout",
     "output_type": "stream",
     "text": [
      "COMP3v4   3.0  4.0\n",
      "H1INDCOM          \n",
      "0          87  322\n",
      "1         304  750\n",
      "COMP3v4        3.0       4.0\n",
      "H1INDCOM                    \n",
      "0         0.222506  0.300373\n",
      "1         0.777494  0.699627\n",
      "chi-square value, p value, expected counts\n",
      "(8.242656426328717, 0.004091720474394229, 1, array([[109.3089542, 299.6910458],\n",
      "       [281.6910458, 772.3089542]]))\n"
     ]
    }
   ],
   "source": [
    "recode2 = {3: 3, 4: 4}\n",
    "add_health['COMP3v4']= add_health['H1RE4'].map(recode2)\n",
    "\n",
    "# contingency table of observed counts\n",
    "ct2=pd.crosstab(add_health['H1INDCOM'], add_health['COMP3v4'])\n",
    "print (ct2)\n",
    "\n",
    "# column percentages\n",
    "colsum=ct2.sum(axis=0)\n",
    "colpct=ct2/colsum\n",
    "print(colpct)\n",
    "\n",
    "print ('chi-square value, p value, expected counts')\n",
    "cs2= scipy.stats.chi2_contingency(ct2)\n",
    "print (cs2)"
   ]
  },
  {
   "cell_type": "markdown",
   "metadata": {},
   "source": [
    "p-value = 0.004 < 0.008 => Null-hypothesis can be rejected, so there's Families in which Religion is fairly unimportant motivate their children to be independant significatnyl more often than those for whom religion is not important at all"
   ]
  },
  {
   "cell_type": "code",
   "execution_count": null,
   "metadata": {},
   "outputs": [],
   "source": []
  }
 ],
 "metadata": {
  "kernelspec": {
   "display_name": "Python 3",
   "language": "python",
   "name": "python3"
  },
  "language_info": {
   "codemirror_mode": {
    "name": "ipython",
    "version": 3
   },
   "file_extension": ".py",
   "mimetype": "text/x-python",
   "name": "python",
   "nbconvert_exporter": "python",
   "pygments_lexer": "ipython3",
   "version": "3.7.7"
  }
 },
 "nbformat": 4,
 "nbformat_minor": 4
}

{
 "cells": [
  {
   "cell_type": "code",
   "execution_count": 1,
   "metadata": {},
   "outputs": [],
   "source": [
    "from bs4 import BeautifulSoup\n",
    "import requests\n",
    "import json"
   ]
  },
  {
   "cell_type": "markdown",
   "metadata": {},
   "source": [
    "# Parsing\n",
    "## Get list of all the sections"
   ]
  },
  {
   "cell_type": "code",
   "execution_count": 10,
   "metadata": {},
   "outputs": [
    {
     "name": "stdout",
     "output_type": "stream",
     "text": [
      "['https://www.tesco.com/groceries/en-GB/shop/fresh-food', 'https://www.tesco.com/groceries/en-GB/shop/bakery', 'https://www.tesco.com/groceries/en-GB/shop/frozen-food', 'https://www.tesco.com/groceries/en-GB/shop/food-cupboard', 'https://www.tesco.com/groceries/en-GB/shop/drinks', 'https://www.tesco.com/groceries/en-GB/shop/baby', 'https://www.tesco.com/groceries/en-GB/shop/health-and-beauty', 'https://www.tesco.com/groceries/en-GB/shop/pets', 'https://www.tesco.com/groceries/en-GB/shop/household', 'https://www.tesco.com/groceries/en-GB/shop/home-and-ents', 'https://www.tesco.com/groceries/en-GB/shop/easter', 'https://www.tesco.com/groceries/en-GB/shop/inspiration-and-events']\n"
     ]
    }
   ],
   "source": [
    "headers = requests.utils.default_headers()\n",
    "url = \"https://www.tesco.com/groceries/en-GB/shop/?include-children=true\"\n",
    "req = requests.get(url, headers)\n",
    "soup = BeautifulSoup(req.content, 'html.parser')\n",
    "result = soup.find_all(\"script\", type=\"application/ld+json\")\n",
    "list_ = json.loads(result[0].string)\n",
    "sections_urls_list = []\n",
    "for next_ in list_:\n",
    "    if next_[\"@type\"] == \"ItemList\":\n",
    "        elements_list = next_[\"itemListElement\"]\n",
    "        sections_urls_list = list(map(lambda x: x[\"url\"], elements_list))\n",
    "        break\n",
    "print(sections_urls_list)\n",
    "\n"
   ]
  },
  {
   "cell_type": "markdown",
   "metadata": {},
   "source": [
    "## Handling content inside sections"
   ]
  },
  {
   "cell_type": "code",
   "execution_count": 57,
   "metadata": {},
   "outputs": [],
   "source": [
    "#parse for products urls on the page\n",
    "def parse_page_content(url):\n",
    "    req = requests.get(url, headers)\n",
    "    soup = BeautifulSoup(req.content, 'html.parser')\n",
    "    result = soup.find_all(\"script\", type=\"application/ld+json\")\n",
    "    list_ = json.loads(result[0].string)\n",
    "    for next_ in list_:\n",
    "        if next_[\"@type\"] == \"ItemList\":\n",
    "            elements_list = next_[\"itemListElement\"]\n",
    "            sections_urls_list = list(map(lambda x: x[\"url\"], elements_list))\n",
    "            break\n",
    "    return sections_urls_list\n",
    "\n",
    "def find_last_page_index(url):\n",
    "    req = requests.get(url, headers)\n",
    "    soup = BeautifulSoup(req.content, 'html.parser')\n",
    "    #try to get the last page index:\n",
    "    result = soup.find_all(\"li\", class_=\"pagination-btn-holder\")\n",
    "    #-1 is going back to results, -2 - is the last page\n",
    "    last_page = result[-2].find_all(\"span\")[0].string\n",
    "    return int(last_page)\n",
    "\n",
    "    \n",
    "#Finds last page and call parsing for each page\n",
    "def parse_section_content(url):\n",
    "    last_page = find_last_page_index(url)\n",
    "    #cause I don't want to scrape everything, most probably we will need to have some delays for prevent bot detection checks\n",
    "    i = 0\n",
    "    result_set = set()\n",
    "    url = url+\"?page=\" \n",
    "    for next_page in range(1, last_page+1):\n",
    "        page_url = url + str(next_page)\n",
    "        local_result = parse_page_content(page_url)\n",
    "        result_set = result_set.union(local_result)\n",
    "        i = i + 1\n",
    "        if i == 3:\n",
    "            return result_set\n",
    "    return result_set\n",
    "        \n"
   ]
  },
  {
   "cell_type": "code",
   "execution_count": 58,
   "metadata": {},
   "outputs": [],
   "source": [
    "for next_url in sections_urls_list:\n",
    "    data = parse_section_content(next_url+\"/all\")\n",
    "    break\n"
   ]
  },
  {
   "cell_type": "code",
   "execution_count": 59,
   "metadata": {},
   "outputs": [
    {
     "name": "stdout",
     "output_type": "stream",
     "text": [
      "2946\n"
     ]
    }
   ],
   "source": [
    "print(len(data))"
   ]
  },
  {
   "cell_type": "markdown",
   "metadata": {},
   "source": [
    "# Sainsbury's parsing"
   ]
  },
  {
   "cell_type": "code",
   "execution_count": 142,
   "metadata": {},
   "outputs": [],
   "source": [
    "main_sainsbury_url = 'https://www.sainsburys.co.uk/shop/gb/groceries'\n",
    "sainsbury_categories_urls = [\n",
    "'https://www.sainsburys.co.uk/shop/gb/groceries/dietary-and-lifestyle/seeall?fromMegaNav=1#langId=44&storeId=10151&catalogId=10241&categoryId=453878&parent_category_rn=&top_category=453878&pageSize=60&orderBy=FAVOURITES_FIRST&searchTerm=&catSeeAll=true&beginIndex=0&categoryFacetId1=453878&categoryFacetId2=',\n",
    "    'https://www.sainsburys.co.uk/shop/gb/groceries/fruit-veg/seeall?fromMegaNav=1#langId=44&storeId=10151&catalogId=10241&categoryId=12518&parent_category_rn=&top_category=12518&pageSize=60&orderBy=FAVOURITES_FIRST&searchTerm=&catSeeAll=true&beginIndex=0&categoryFacetId1=12518&categoryFacetId2=',\n",
    "    'https://www.sainsburys.co.uk/shop/gb/groceries/meat-fish/seeall?fromMegaNav=1#langId=44&storeId=10151&catalogId=10241&categoryId=13343&parent_category_rn=&top_category=13343&pageSize=60&orderBy=FAVOURITES_FIRST&searchTerm=&catSeeAll=true&beginIndex=0&categoryFacetId1=13343&categoryFacetId2=',\n",
    "    'https://www.sainsburys.co.uk/shop/gb/groceries/dairy-eggs-and-chilled/seeall?fromMegaNav=1#langId=44&storeId=10151&catalogId=10241&categoryId=428866&parent_category_rn=&top_category=428866&pageSize=60&orderBy=FAVOURITES_FIRST&searchTerm=&catSeeAll=true&beginIndex=0&categoryFacetId1=428866&categoryFacetId2=',\n",
    "    'https://www.sainsburys.co.uk/shop/gb/groceries/bakery/seeall?fromMegaNav=1#langId=44&storeId=10151&catalogId=10241&categoryId=12320&parent_category_rn=&top_category=12320&pageSize=60&orderBy=FAVOURITES_FIRST&searchTerm=&catSeeAll=true&beginIndex=0&categoryFacetId1=12320&categoryFacetId2=',\n",
    "    'https://www.sainsburys.co.uk/shop/gb/groceries/frozen-/seeall?fromMegaNav=1#langId=44&storeId=10151&catalogId=10241&categoryId=218831&parent_category_rn=&top_category=218831&pageSize=60&orderBy=FAVOURITES_FIRST&searchTerm=&catSeeAll=true&beginIndex=0&categoryFacetId1=218831&categoryFacetId2=',\n",
    "    'https://www.sainsburys.co.uk/shop/gb/groceries/food-cupboard/seeall?fromMegaNav=1#langId=44&storeId=10151&catalogId=10241&categoryId=12422&parent_category_rn=&top_category=12422&pageSize=60&orderBy=FAVOURITES_FIRST&searchTerm=&catSeeAll=true&beginIndex=0&categoryFacetId1=12422&categoryFacetId2=',\n",
    "'https://www.sainsburys.co.uk/shop/CategorySeeAllView?listId=&catalogId=10241&searchTerm=&beginIndex=0&pageSize=120&orderBy=FAVOURITES_FIRST&top_category=&langId=44&storeId=10151&categoryId=12192&promotionId=&parent_category_rn='\n",
    "]"
   ]
  },
  {
   "cell_type": "code",
   "execution_count": 135,
   "metadata": {},
   "outputs": [],
   "source": [
    "import re\n",
    "\n",
    "def link_to_next_page_from_url(url):\n",
    "    req = requests.get(url, [])\n",
    "    soup = BeautifulSoup(req.content, 'html.parser')\n",
    "    return link_to_next_page(soup)\n",
    "\n",
    "\n",
    "def link_to_next_page(soup):\n",
    "    result = soup.find_all(\"li\", class_=\"next\")\n",
    "    data = result[0].find_all('a')\n",
    "    if len(data) > 0:\n",
    "        return data[0].get('href')\n",
    "    return ''\n",
    "\n",
    "def links_to_products_from_url(url):\n",
    "    req = requests.get(url, [])\n",
    "    soup = BeautifulSoup(req.content, 'html.parser')\n",
    "    return links_to_products(soup)\n",
    "\n",
    "def links_to_products(soup):\n",
    "    result = soup.find_all(\"div\", class_=\"productNameAndPromotions\")\n",
    "    result_set = set()\n",
    "    for next_ in result:\n",
    "        data = next_.find_all('a', attrs={'href': re.compile(\"^http\")})\n",
    "        if len(data) > 0:\n",
    "            result_set.add(data[0].get('href'))\n",
    "    return result_set"
   ]
  },
  {
   "cell_type": "code",
   "execution_count": 144,
   "metadata": {},
   "outputs": [],
   "source": [
    "def parse_category(url):\n",
    "    result_set = set()\n",
    "    next_url = url\n",
    "\n",
    "    while len(next_url) > 0:\n",
    "        req = requests.get(next_url, [])\n",
    "        soup = BeautifulSoup(req.content, 'html.parser')\n",
    "        next_url = link_to_next_page(soup)\n",
    "        result_set = result_set.union(links_to_products(soup))\n",
    "    return result_set\n"
   ]
  },
  {
   "cell_type": "code",
   "execution_count": null,
   "metadata": {},
   "outputs": [
    {
     "name": "stdout",
     "output_type": "stream",
     "text": [
      "1989\n",
      "2622\n",
      "3324\n"
     ]
    }
   ],
   "source": [
    "result_set = set()\n",
    "for next_url in sainsbury_categories_urls:\n",
    "    result_set = result_set.union(parse_category(next_url))\n",
    "    print(len(result_set))"
   ]
  },
  {
   "cell_type": "code",
   "execution_count": null,
   "metadata": {},
   "outputs": [],
   "source": []
  }
 ],
 "metadata": {
  "kernelspec": {
   "display_name": "Python 3",
   "language": "python",
   "name": "python3"
  },
  "language_info": {
   "codemirror_mode": {
    "name": "ipython",
    "version": 3
   },
   "file_extension": ".py",
   "mimetype": "text/x-python",
   "name": "python",
   "nbconvert_exporter": "python",
   "pygments_lexer": "ipython3",
   "version": "3.7.7"
  }
 },
 "nbformat": 4,
 "nbformat_minor": 4
}

{
 "cells": [
  {
   "cell_type": "code",
   "execution_count": 11,
   "metadata": {},
   "outputs": [],
   "source": [
    "from bs4 import BeautifulSoup\n",
    "import requests\n",
    "import json"
   ]
  },
  {
   "cell_type": "markdown",
   "metadata": {},
   "source": [
    "# Parsing\n",
    "## Get list of all the sections"
   ]
  },
  {
   "cell_type": "code",
   "execution_count": 22,
   "metadata": {},
   "outputs": [
    {
     "name": "stdout",
     "output_type": "stream",
     "text": [
      "['https://www.tesco.com/groceries/en-GB/shop/fresh-food', 'https://www.tesco.com/groceries/en-GB/shop/bakery', 'https://www.tesco.com/groceries/en-GB/shop/frozen-food', 'https://www.tesco.com/groceries/en-GB/shop/food-cupboard', 'https://www.tesco.com/groceries/en-GB/shop/drinks', 'https://www.tesco.com/groceries/en-GB/shop/baby', 'https://www.tesco.com/groceries/en-GB/shop/health-and-beauty', 'https://www.tesco.com/groceries/en-GB/shop/pets', 'https://www.tesco.com/groceries/en-GB/shop/household', 'https://www.tesco.com/groceries/en-GB/shop/home-and-ents', 'https://www.tesco.com/groceries/en-GB/shop/easter', 'https://www.tesco.com/groceries/en-GB/shop/inspiration-and-events']\n"
     ]
    }
   ],
   "source": [
    "headers = requests.utils.default_headers()\n",
    "url = \"https://www.tesco.com/groceries/en-GB/shop/?include-children=true\"\n",
    "req = requests.get(url, headers)\n",
    "soup = BeautifulSoup(req.content, 'html.parser')\n",
    "result = soup.find_all(\"script\", type=\"application/ld+json\")\n",
    "list_ = json.loads(result[0].string)\n",
    "sections_urls_list = []\n",
    "for next_ in list_:\n",
    "    if next_[\"@type\"] == \"ItemList\":\n",
    "        elements_list = next_[\"itemListElement\"]\n",
    "        sections_urls_list = list(map(lambda x: x[\"url\"], elements_list))\n",
    "        break\n",
    "print(sections_urls_list)\n",
    "\n"
   ]
  },
  {
   "cell_type": "markdown",
   "metadata": {},
   "source": [
    "## Handling content inside sections"
   ]
  },
  {
   "cell_type": "code",
   "execution_count": 75,
   "metadata": {},
   "outputs": [],
   "source": [
    "#parse for products urls on the page\n",
    "def parse_page_content(url):\n",
    "    req = requests.get(url, headers)\n",
    "    soup = BeautifulSoup(req.content, 'html.parser')\n",
    "    result = soup.find_all(\"script\", type=\"application/ld+json\")\n",
    "    list_ = json.loads(result[0].string)\n",
    "    for next_ in list_:\n",
    "        if next_[\"@type\"] == \"ItemList\":\n",
    "            elements_list = next_[\"itemListElement\"]\n",
    "            sections_urls_list = list(map(lambda x: x[\"url\"], elements_list))\n",
    "            break\n",
    "    print(sections_urls_list)\n",
    "\n",
    "def find_last_page_index(url):\n",
    "    req = requests.get(url, headers)\n",
    "    soup = BeautifulSoup(req.content, 'html.parser')\n",
    "    #try to get the last page index:\n",
    "    result = soup.find_all(\"li\", class_=\"pagination-btn-holder\")\n",
    "    #-1 is going back to results, -2 - is the last page\n",
    "    last_page = result[-2].find_all(\"span\")[0].string\n",
    "    return int(last_page)\n",
    "\n",
    "    \n",
    "#Finds last page and call parsing for each page\n",
    "def parse_section_content(url):\n",
    "    last_page = find_last_page_index(url)\n",
    "    #cause I don't want to scrape everything, most probably we will need to have some delays for prevent bot detection checks\n",
    "    i = 0\n",
    "    for next_page in range(1, last_page+1):\n",
    "        url = url+\"?page=\" + str(next_page)\n",
    "        parse_page_content(url)\n",
    "        i = i + 1\n",
    "        if i == 3:\n",
    "            return\n",
    "        \n"
   ]
  },
  {
   "cell_type": "code",
   "execution_count": 76,
   "metadata": {},
   "outputs": [
    {
     "name": "stdout",
     "output_type": "stream",
     "text": [
      "['https://www.tesco.com/groceries/en-GB/products/290920510', 'https://www.tesco.com/groceries/en-GB/products/290921181', 'https://www.tesco.com/groceries/en-GB/products/284475671', 'https://www.tesco.com/groceries/en-GB/products/296920881', 'https://www.tesco.com/groceries/en-GB/products/260138854', 'https://www.tesco.com/groceries/en-GB/products/258423755', 'https://www.tesco.com/groceries/en-GB/products/266419328', 'https://www.tesco.com/groceries/en-GB/products/288135169', 'https://www.tesco.com/groceries/en-GB/products/266499399', 'https://www.tesco.com/groceries/en-GB/products/267459342', 'https://www.tesco.com/groceries/en-GB/products/252207537', 'https://www.tesco.com/groceries/en-GB/products/295673143', 'https://www.tesco.com/groceries/en-GB/products/287529333', 'https://www.tesco.com/groceries/en-GB/products/253556398', 'https://www.tesco.com/groceries/en-GB/products/280046682', 'https://www.tesco.com/groceries/en-GB/products/285157326', 'https://www.tesco.com/groceries/en-GB/products/285212132', 'https://www.tesco.com/groceries/en-GB/products/281426090', 'https://www.tesco.com/groceries/en-GB/products/282997799', 'https://www.tesco.com/groceries/en-GB/products/254656543', 'https://www.tesco.com/groceries/en-GB/products/253558972', 'https://www.tesco.com/groceries/en-GB/products/305964008', 'https://www.tesco.com/groceries/en-GB/products/253558183', 'https://www.tesco.com/groceries/en-GB/products/258421636']\n",
      "['https://www.tesco.com/groceries/en-GB/products/290920510', 'https://www.tesco.com/groceries/en-GB/products/290921181', 'https://www.tesco.com/groceries/en-GB/products/284475671', 'https://www.tesco.com/groceries/en-GB/products/296920881', 'https://www.tesco.com/groceries/en-GB/products/260138854', 'https://www.tesco.com/groceries/en-GB/products/258423755', 'https://www.tesco.com/groceries/en-GB/products/266419328', 'https://www.tesco.com/groceries/en-GB/products/288135169', 'https://www.tesco.com/groceries/en-GB/products/266499399', 'https://www.tesco.com/groceries/en-GB/products/267459342', 'https://www.tesco.com/groceries/en-GB/products/252207537', 'https://www.tesco.com/groceries/en-GB/products/295673143', 'https://www.tesco.com/groceries/en-GB/products/287529333', 'https://www.tesco.com/groceries/en-GB/products/253556398', 'https://www.tesco.com/groceries/en-GB/products/280046682', 'https://www.tesco.com/groceries/en-GB/products/285157326', 'https://www.tesco.com/groceries/en-GB/products/285212132', 'https://www.tesco.com/groceries/en-GB/products/281426090', 'https://www.tesco.com/groceries/en-GB/products/282997799', 'https://www.tesco.com/groceries/en-GB/products/254656543', 'https://www.tesco.com/groceries/en-GB/products/253558972', 'https://www.tesco.com/groceries/en-GB/products/305964008', 'https://www.tesco.com/groceries/en-GB/products/253558183', 'https://www.tesco.com/groceries/en-GB/products/258421636']\n",
      "['https://www.tesco.com/groceries/en-GB/products/290920510', 'https://www.tesco.com/groceries/en-GB/products/290921181', 'https://www.tesco.com/groceries/en-GB/products/284475671', 'https://www.tesco.com/groceries/en-GB/products/296920881', 'https://www.tesco.com/groceries/en-GB/products/260138854', 'https://www.tesco.com/groceries/en-GB/products/258423755', 'https://www.tesco.com/groceries/en-GB/products/266419328', 'https://www.tesco.com/groceries/en-GB/products/288135169', 'https://www.tesco.com/groceries/en-GB/products/266499399', 'https://www.tesco.com/groceries/en-GB/products/267459342', 'https://www.tesco.com/groceries/en-GB/products/252207537', 'https://www.tesco.com/groceries/en-GB/products/295673143', 'https://www.tesco.com/groceries/en-GB/products/287529333', 'https://www.tesco.com/groceries/en-GB/products/253556398', 'https://www.tesco.com/groceries/en-GB/products/280046682', 'https://www.tesco.com/groceries/en-GB/products/285157326', 'https://www.tesco.com/groceries/en-GB/products/285212132', 'https://www.tesco.com/groceries/en-GB/products/281426090', 'https://www.tesco.com/groceries/en-GB/products/282997799', 'https://www.tesco.com/groceries/en-GB/products/254656543', 'https://www.tesco.com/groceries/en-GB/products/253558972', 'https://www.tesco.com/groceries/en-GB/products/305964008', 'https://www.tesco.com/groceries/en-GB/products/253558183', 'https://www.tesco.com/groceries/en-GB/products/258421636']\n"
     ]
    }
   ],
   "source": [
    "for next_url in sections_urls_list:\n",
    "    parse_section_content(next_url+\"/all\")\n",
    "    break"
   ]
  },
  {
   "cell_type": "code",
   "execution_count": null,
   "metadata": {},
   "outputs": [],
   "source": []
  }
 ],
 "metadata": {
  "kernelspec": {
   "display_name": "Python 3",
   "language": "python",
   "name": "python3"
  },
  "language_info": {
   "codemirror_mode": {
    "name": "ipython",
    "version": 3
   },
   "file_extension": ".py",
   "mimetype": "text/x-python",
   "name": "python",
   "nbconvert_exporter": "python",
   "pygments_lexer": "ipython3",
   "version": "3.7.7"
  }
 },
 "nbformat": 4,
 "nbformat_minor": 4
}

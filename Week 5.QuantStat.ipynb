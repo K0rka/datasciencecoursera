{
 "cells": [
  {
   "cell_type": "code",
   "execution_count": 38,
   "metadata": {},
   "outputs": [],
   "source": [
    "import pandas as pd\n",
    "import numpy as np\n",
    "import statsmodels.stats.multicomp as multi \n",
    "import statsmodels.formula.api as smf\n"
   ]
  },
  {
   "cell_type": "code",
   "execution_count": 19,
   "metadata": {},
   "outputs": [],
   "source": [
    "add_health = pd.read_csv(\"add_health.csv\", low_memory=False)"
   ]
  },
  {
   "cell_type": "code",
   "execution_count": 43,
   "metadata": {},
   "outputs": [],
   "source": [
    "# Data Management\n",
    "# Sacred texts agreement question: \n",
    "#replace answers in sacred texts to nan\n",
    "add_health['H1RE2'] = add_health['H1RE2'].replace(6, np.NaN)\n",
    "add_health['H1RE2'] = add_health['H1RE2'].replace(8, np.NaN)\n",
    "#if has no religion replace with the value disagree\n",
    "add_health['H1RE2'] = add_health['H1RE2'].replace(7, 2)\n",
    "\n",
    "#howm important is religion for you\n",
    "add_health['H1RE4'] = add_health['H1RE4'].replace(6, np.NaN)\n",
    "add_health['H1RE4'] = add_health['H1RE4'].replace(8, np.NaN)\n",
    "#if has no religion replace with the value not important\n",
    "add_health['H1RE4'] = add_health['H1RE4'].replace(7, 4)\n",
    "add_health['H1RE4'] = add_health['H1RE4'].astype('category')\n",
    "\n",
    "#how often do you pray\n",
    "add_health['H1RE6'] = add_health['H1RE6'].replace(6, np.NaN)\n",
    "add_health['H1RE6'] = add_health['H1RE6'].replace(8, np.NaN)\n",
    "#if has no religion replace with the value never\n",
    "add_health['H1RE6'] = add_health['H1RE6'].replace(7, 5)\n"
   ]
  },
  {
   "cell_type": "markdown",
   "metadata": {},
   "source": [
    "# Handling response variable: how often did you skip full day in school without an excuse?\n",
    "Bare in mind, that originally it's a string variable, because of \"Skip\" answer, which is marked as \" \""
   ]
  },
  {
   "cell_type": "code",
   "execution_count": 44,
   "metadata": {},
   "outputs": [],
   "source": [
    "add_health['SCHSKIP'] = pd.to_numeric(add_health['H1ED2'].replace([\"996\",\"997\", \"998\", \" \"], np.NaN))"
   ]
  },
  {
   "cell_type": "code",
   "execution_count": 45,
   "metadata": {},
   "outputs": [],
   "source": [
    "#choose only columns, that makes interest\n",
    "selected_part = add_health[['H1RE2', 'H1RE4', 'H1RE6', 'H1PR5', 'H1PF2','H1ED2']]"
   ]
  },
  {
   "cell_type": "markdown",
   "metadata": {},
   "source": [
    "# Statistical check\n",
    "### Null-hypothesis is: religious adolescents skip the same amount of days in school as non-religious adolescents\n",
    "Religion amongst adolescents is a categorical variable with 4 levels\n",
    "Amount of skipped days is quantative variable"
   ]
  },
  {
   "cell_type": "markdown",
   "metadata": {},
   "source": [
    "### Mean and Standard deviations for amount of skipped days grouped by religiosity "
   ]
  },
  {
   "cell_type": "code",
   "execution_count": 52,
   "metadata": {},
   "outputs": [
    {
     "name": "stdout",
     "output_type": "stream",
     "text": [
      "Mean value for amount of skipped days by religiosity level\n",
      "        SCHSKIP\n",
      "H1RE4          \n",
      "1.0    1.171201\n",
      "2.0    2.182361\n",
      "3.0    3.140992\n",
      "4.0    3.434951\n",
      "standard deviations for amount of skipped days by religiosity level\n",
      "         SCHSKIP\n",
      "H1RE4           \n",
      "1.0     5.672074\n",
      "2.0     7.696166\n",
      "3.0     9.995861\n",
      "4.0    10.046981\n"
     ]
    }
   ],
   "source": [
    "print ('Mean value for amount of skipped days by religiosity level')\n",
    "\n",
    "m1= sub.groupby('H1RE4').mean()\n",
    "print (m1)\n",
    "\n",
    "print ('standard deviations for amount of skipped days by religiosity level')\n",
    "sd1 = sub.groupby('H1RE4').std()\n",
    "print (sd1)\n"
   ]
  },
  {
   "cell_type": "markdown",
   "metadata": {},
   "source": [
    "### Ordinary least squared mathod for categorical variable with more than 2 levels"
   ]
  },
  {
   "cell_type": "code",
   "execution_count": 49,
   "metadata": {},
   "outputs": [
    {
     "name": "stdout",
     "output_type": "stream",
     "text": [
      "                            OLS Regression Results                            \n",
      "==============================================================================\n",
      "Dep. Variable:                SCHSKIP   R-squared:                       0.013\n",
      "Model:                            OLS   Adj. R-squared:                  0.012\n",
      "Method:                 Least Squares   F-statistic:                     26.96\n",
      "Date:                Sat, 28 Mar 2020   Prob (F-statistic):           2.54e-17\n",
      "Time:                        19:36:57   Log-Likelihood:                -21817.\n",
      "No. Observations:                6347   AIC:                         4.364e+04\n",
      "Df Residuals:                    6343   BIC:                         4.367e+04\n",
      "Df Model:                           3                                         \n",
      "Covariance Type:            nonrobust                                         \n",
      "===================================================================================\n",
      "                      coef    std err          t      P>|t|      [0.025      0.975]\n",
      "-----------------------------------------------------------------------------------\n",
      "Intercept           1.1712      0.143      8.168      0.000       0.890       1.452\n",
      "C(H1RE4)[T.2.0]     1.0112      0.216      4.684      0.000       0.588       1.434\n",
      "C(H1RE4)[T.3.0]     1.9698      0.411      4.798      0.000       1.165       2.775\n",
      "C(H1RE4)[T.4.0]     2.2638      0.275      8.233      0.000       1.725       2.803\n",
      "==============================================================================\n",
      "Omnibus:                     8753.169   Durbin-Watson:                   1.944\n",
      "Prob(Omnibus):                  0.000   Jarque-Bera (JB):          1962376.468\n",
      "Skew:                           8.109   Prob(JB):                         0.00\n",
      "Kurtosis:                      87.601   Cond. No.                         4.89\n",
      "==============================================================================\n",
      "\n",
      "Warnings:\n",
      "[1] Standard Errors assume that the covariance matrix of the errors is correctly specified.\n"
     ]
    }
   ],
   "source": [
    "sub = add_health[['H1RE4', 'SCHSKIP']].dropna()\n",
    "sub['H1RE4'] = sub['H1RE4'].astype('category')\n",
    "model1 = smf.ols(formula='SCHSKIP ~ C(H1RE4)', data=sub)\n",
    "results1 = model1.fit()\n",
    "print (results1.summary())\n"
   ]
  },
  {
   "cell_type": "markdown",
   "metadata": {},
   "source": [
    "Based on p = 2.54e-17 Null-hypothesis can be rejected, which means, that adolescents, for whom religion is more important tend to skip less days in school without explanations. "
   ]
  },
  {
   "cell_type": "markdown",
   "metadata": {},
   "source": [
    "### Multiple comparisons"
   ]
  },
  {
   "cell_type": "code",
   "execution_count": 51,
   "metadata": {},
   "outputs": [
    {
     "name": "stdout",
     "output_type": "stream",
     "text": [
      "Multiple Comparison of Means - Tukey HSD, FWER=0.05\n",
      "===================================================\n",
      "group1 group2 meandiff p-adj   lower  upper  reject\n",
      "---------------------------------------------------\n",
      "   1.0    2.0   1.0112  0.001  0.4564 1.5659   True\n",
      "   1.0    3.0   1.9698  0.001  0.9147 3.0249   True\n",
      "   1.0    4.0   2.2638  0.001  1.5572 2.9703   True\n",
      "   2.0    3.0   0.9586 0.0986 -0.1135 2.0307  False\n",
      "   2.0    4.0   1.2526  0.001  0.5209 1.9843   True\n",
      "   3.0    4.0    0.294    0.9  -0.864 1.4519  False\n",
      "---------------------------------------------------\n"
     ]
    }
   ],
   "source": [
    "mc1 = multi.MultiComparison(sub['SCHSKIP'], sub['H1RE4'])\n",
    "res1 = mc1.tukeyhsd()\n",
    "print(res1.summary())"
   ]
  },
  {
   "cell_type": "markdown",
   "metadata": {},
   "source": [
    "Multiple comparisons shows that there's significant difference between amount of skipped days for those adolescents, who consider religion to be a very important important part of their lifes from all the other groups. And also there's a difference between those, for whom religion is fairly important from those, for whom it is not important at all. "
   ]
  }
 ],
 "metadata": {
  "kernelspec": {
   "display_name": "Python 3",
   "language": "python",
   "name": "python3"
  },
  "language_info": {
   "codemirror_mode": {
    "name": "ipython",
    "version": 3
   },
   "file_extension": ".py",
   "mimetype": "text/x-python",
   "name": "python",
   "nbconvert_exporter": "python",
   "pygments_lexer": "ipython3",
   "version": "3.7.7"
  }
 },
 "nbformat": 4,
 "nbformat_minor": 4
}

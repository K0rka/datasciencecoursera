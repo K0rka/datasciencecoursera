{
 "cells": [
  {
   "cell_type": "code",
   "execution_count": 1,
   "metadata": {},
   "outputs": [],
   "source": [
    "import pandas as pd\n",
    "import numpy as np\n",
    "import matplotlib.pyplot as pyplot"
   ]
  },
  {
   "cell_type": "code",
   "execution_count": 2,
   "metadata": {},
   "outputs": [],
   "source": [
    "add_health = pd.read_csv(\"add_health.csv\", low_memory=False)"
   ]
  },
  {
   "cell_type": "code",
   "execution_count": 3,
   "metadata": {},
   "outputs": [],
   "source": [
    "# Data Management\n",
    "# Sacred texts agreement question: \n",
    "#replace answers in sacred texts to nan\n",
    "add_health['H1RE2'] = add_health['H1RE2'].replace(6, np.NaN)\n",
    "add_health['H1RE2'] = add_health['H1RE2'].replace(8, np.NaN)\n",
    "#if has no religion replace with the value disagree\n",
    "add_health['H1RE2'] = add_health['H1RE2'].replace(7, 2)\n",
    "\n",
    "#howm important is religion for you\n",
    "add_health['H1RE4'] = add_health['H1RE4'].replace(6, np.NaN)\n",
    "add_health['H1RE4'] = add_health['H1RE4'].replace(8, np.NaN)\n",
    "#if has no religion replace with the value not important\n",
    "add_health['H1RE4'] = add_health['H1RE4'].replace(7, 4)\n",
    "\n",
    "#how often do you pray\n",
    "add_health['H1RE6'] = add_health['H1RE6'].replace(6, np.NaN)\n",
    "add_health['H1RE6'] = add_health['H1RE6'].replace(8, np.NaN)\n",
    "#if has no religion replace with the value never\n",
    "add_health['H1RE6'] = add_health['H1RE6'].replace(7, 5)\n"
   ]
  },
  {
   "cell_type": "code",
   "execution_count": 4,
   "metadata": {},
   "outputs": [],
   "source": [
    "#Mom motivates you to be independant\n",
    "add_health['H1PF2'] = add_health['H1PF2'].replace(6, np.NaN)\n",
    "add_health['H1PF2'] = add_health['H1PF2'].replace(8, np.NaN)\n",
    "add_health['H1PF2'] = add_health['H1PF2'].replace(7, np.NaN)\n",
    "\n",
    "#How much you feel that people in your family understand you\n",
    "add_health['H1PR5'] = add_health['H1PR5'].replace(6, np.NaN)\n",
    "add_health['H1PR5'] = add_health['H1PR5'].replace(96, np.NaN)\n",
    "add_health['H1PR5'] = add_health['H1PR5'].replace(98, np.NaN)\n"
   ]
  },
  {
   "cell_type": "code",
   "execution_count": 5,
   "metadata": {},
   "outputs": [],
   "source": [
    "#Parents give you right to decide different aspects of your life: H1WP1 -> H1WP7\n",
    "#I will combine these columns 5 and more Yes -> encourage independance, otherwise No\n",
    "add_health[add_health.filter(regex=('H1WP[1-7]{1}$')).columns] = add_health.filter(regex=('H1WP[1-7]{1}$')).replace([6,7, 8, 9], np.NaN)\n",
    "\n",
    "add_health['H1INDCOM'] = np.where(add_health.filter(regex=('H1WP[1-7]{1}$')).sum(axis=1) > 4, 1, 0)"
   ]
  },
  {
   "cell_type": "code",
   "execution_count": 6,
   "metadata": {},
   "outputs": [],
   "source": [
    "#choose only columns, that makes interest\n",
    "selected_part = add_health[['H1RE2', 'H1RE4', 'H1RE6', 'H1PR5', 'H1PF2','H1INDCOM']]"
   ]
  },
  {
   "cell_type": "markdown",
   "metadata": {},
   "source": [
    "# Importance of Religion.\n",
    "### How much adolescents agree with what's written in the sacred scriptures of their religion "
   ]
  },
  {
   "cell_type": "code",
   "execution_count": 7,
   "metadata": {},
   "outputs": [
    {
     "data": {
      "text/html": [
       "<div>\n",
       "<style scoped>\n",
       "    .dataframe tbody tr th:only-of-type {\n",
       "        vertical-align: middle;\n",
       "    }\n",
       "\n",
       "    .dataframe tbody tr th {\n",
       "        vertical-align: top;\n",
       "    }\n",
       "\n",
       "    .dataframe thead th {\n",
       "        text-align: right;\n",
       "    }\n",
       "</style>\n",
       "<table border=\"1\" class=\"dataframe\">\n",
       "  <thead>\n",
       "    <tr style=\"text-align: right;\">\n",
       "      <th></th>\n",
       "      <th>Count</th>\n",
       "      <th>Count normalized</th>\n",
       "    </tr>\n",
       "    <tr>\n",
       "      <th>Description</th>\n",
       "      <th></th>\n",
       "      <th></th>\n",
       "    </tr>\n",
       "  </thead>\n",
       "  <tbody>\n",
       "    <tr>\n",
       "      <th>agree</th>\n",
       "      <td>4138</td>\n",
       "      <td>0.663035</td>\n",
       "    </tr>\n",
       "    <tr>\n",
       "      <th>disagree</th>\n",
       "      <td>1984</td>\n",
       "      <td>0.317898</td>\n",
       "    </tr>\n",
       "    <tr>\n",
       "      <th>no sacred scriptures</th>\n",
       "      <td>119</td>\n",
       "      <td>0.019067</td>\n",
       "    </tr>\n",
       "  </tbody>\n",
       "</table>\n",
       "</div>"
      ],
      "text/plain": [
       "                      Count  Count normalized\n",
       "Description                                  \n",
       "agree                  4138          0.663035\n",
       "disagree               1984          0.317898\n",
       "no sacred scriptures    119          0.019067"
      ]
     },
     "execution_count": 7,
     "metadata": {},
     "output_type": "execute_result"
    }
   ],
   "source": [
    "#Values for peoples trust in sacred scripts of their religion\n",
    " \n",
    "sacred_scripts_values = pd.to_numeric(selected_part['H1RE2']).value_counts(sort = True, dropna=True)\n",
    "sacred_scripts_values_norm = pd.to_numeric(selected_part['H1RE2']).value_counts(sort = True, normalize=True, dropna=True)\n",
    "\n",
    "sacred_scripts_results = pd.DataFrame({\"Count\":sacred_scripts_values, \"Count normalized\" : sacred_scripts_values_norm})\n",
    "sacred_scripts_results.at[1, \"Description\"] = \"agree\"\n",
    "sacred_scripts_results.at[2, \"Description\"] = \"disagree\"\n",
    "sacred_scripts_results.at[3, \"Description\"] = \"no sacred scriptures\"\n",
    "sacred_scripts_results = sacred_scripts_results.set_index(\"Description\")\n",
    "\n",
    "sacred_scripts_results"
   ]
  },
  {
   "cell_type": "code",
   "execution_count": 8,
   "metadata": {},
   "outputs": [
    {
     "data": {
      "text/plain": [
       "<BarContainer object of 3 artists>"
      ]
     },
     "execution_count": 8,
     "metadata": {},
     "output_type": "execute_result"
    },
    {
     "data": {
      "image/png": "[encoded data removed]",
      "text/plain": [
       "<Figure size 1080x360 with 2 Axes>"
      ]
     },
     "metadata": {
      "needs_background": "light"
     },
     "output_type": "display_data"
    }
   ],
   "source": [
    "labels = ['Agree', 'Disagree', 'No Sacred\\nScriptures']\n",
    "fig, _ = pyplot.subplots(figsize=(15,5))\n",
    "fig.suptitle('Sacred scriptures of  religion are the word of God and are completely without any mistakes?', fontsize=16)\n",
    "pyplot.subplot(1, 2, 1)\n",
    "pyplot.bar(labels, height = sacred_scripts_values)\n",
    "pyplot.subplot(1, 2, 2)\n",
    "pyplot.bar(labels, height = sacred_scripts_values_norm)"
   ]
  },
  {
   "cell_type": "markdown",
   "metadata": {},
   "source": [
    "### How important is Religion in adolescnets lives ?"
   ]
  },
  {
   "cell_type": "code",
   "execution_count": 9,
   "metadata": {},
   "outputs": [
    {
     "data": {
      "text/html": [
       "<div>\n",
       "<style scoped>\n",
       "    .dataframe tbody tr th:only-of-type {\n",
       "        vertical-align: middle;\n",
       "    }\n",
       "\n",
       "    .dataframe tbody tr th {\n",
       "        vertical-align: top;\n",
       "    }\n",
       "\n",
       "    .dataframe thead th {\n",
       "        text-align: right;\n",
       "    }\n",
       "</style>\n",
       "<table border=\"1\" class=\"dataframe\">\n",
       "  <thead>\n",
       "    <tr style=\"text-align: right;\">\n",
       "      <th></th>\n",
       "      <th>Count</th>\n",
       "      <th>Normalized Count</th>\n",
       "    </tr>\n",
       "    <tr>\n",
       "      <th>Description</th>\n",
       "      <th></th>\n",
       "      <th></th>\n",
       "    </tr>\n",
       "  </thead>\n",
       "  <tbody>\n",
       "    <tr>\n",
       "      <th>very important</th>\n",
       "      <td>2812</td>\n",
       "      <td>0.433082</td>\n",
       "    </tr>\n",
       "    <tr>\n",
       "      <th>fairly important</th>\n",
       "      <td>2218</td>\n",
       "      <td>0.341599</td>\n",
       "    </tr>\n",
       "    <tr>\n",
       "      <th>not important at all</th>\n",
       "      <td>1072</td>\n",
       "      <td>0.165101</td>\n",
       "    </tr>\n",
       "    <tr>\n",
       "      <th>fairly unimportant</th>\n",
       "      <td>391</td>\n",
       "      <td>0.060219</td>\n",
       "    </tr>\n",
       "  </tbody>\n",
       "</table>\n",
       "</div>"
      ],
      "text/plain": [
       "                      Count  Normalized Count\n",
       "Description                                  \n",
       "very important         2812          0.433082\n",
       "fairly important       2218          0.341599\n",
       "not important at all   1072          0.165101\n",
       "fairly unimportant      391          0.060219"
      ]
     },
     "execution_count": 9,
     "metadata": {},
     "output_type": "execute_result"
    }
   ],
   "source": [
    "religion_importance_values = add_health['H1RE4'].value_counts(sort = True, dropna=True)\n",
    "religion_importance_values_norm = add_health['H1RE4'].value_counts(sort = True, normalize = True, dropna=True)\n",
    "religion_importance_results = pd.DataFrame({\"Count\":religion_importance_values, \"Normalized Count\" : religion_importance_values_norm})\n",
    "religion_importance_results.at[1, \"Description\"] = \"very important\"\n",
    "religion_importance_results.at[2, \"Description\"] = \"fairly important\"\n",
    "religion_importance_results.at[3, \"Description\"] = \"fairly unimportant\"\n",
    "religion_importance_results.at[4, \"Description\"] = \"not important at all\"\n",
    "\n",
    "religion_importance_results.index = religion_importance_results['Description']\n",
    "religion_importance_results = religion_importance_results.drop(\"Description\", axis=1)\n",
    "\n",
    "religion_importance_results"
   ]
  },
  {
   "cell_type": "code",
   "execution_count": 10,
   "metadata": {},
   "outputs": [
    {
     "data": {
      "text/plain": [
       "<BarContainer object of 4 artists>"
      ]
     },
     "execution_count": 10,
     "metadata": {},
     "output_type": "execute_result"
    },
    {
     "data": {
      "image/png": "[encoded data removed]",
      "text/plain": [
       "<Figure size 1080x360 with 2 Axes>"
      ]
     },
     "metadata": {
      "needs_background": "light"
     },
     "output_type": "display_data"
    }
   ],
   "source": [
    "\n",
    "labels = [\"very\\nimportant\", \"fairly\\nimportant\", \"fairly\\nunimportant\", \"not important\\nat all\"]\n",
    "fig, _ = pyplot.subplots(figsize=(15,5))\n",
    "fig.suptitle('How important is religion for me?', fontsize=16)\n",
    "pyplot.subplot(1, 2, 1)\n",
    "pyplot.bar(labels, height = religion_importance_values)\n",
    "pyplot.xlabel('')\n",
    "pyplot.subplot(1, 2, 2)\n",
    "pyplot.bar(labels, height = religion_importance_values_norm)"
   ]
  },
  {
   "cell_type": "code",
   "execution_count": 11,
   "metadata": {},
   "outputs": [],
   "source": [
    "praying_freq_values = selected_part['H1RE6'].value_counts(sort = True, dropna=True)\n",
    "praying_freq_values_norm = selected_part['H1RE6'].value_counts(sort = True, normalize = True, dropna=True)\n",
    "praying_freq_results = pd.DataFrame({\"Count\":praying_freq_values, \"Normalized Count\" : praying_freq_values_norm})\n",
    "\n",
    "# praying_freq_results"
   ]
  },
  {
   "cell_type": "markdown",
   "metadata": {},
   "source": [
    "# Understanding in family.\n",
    "### How much do you feel that people in your family understand you? "
   ]
  },
  {
   "cell_type": "code",
   "execution_count": 12,
   "metadata": {},
   "outputs": [
    {
     "data": {
      "text/html": [
       "<div>\n",
       "<style scoped>\n",
       "    .dataframe tbody tr th:only-of-type {\n",
       "        vertical-align: middle;\n",
       "    }\n",
       "\n",
       "    .dataframe tbody tr th {\n",
       "        vertical-align: top;\n",
       "    }\n",
       "\n",
       "    .dataframe thead th {\n",
       "        text-align: right;\n",
       "    }\n",
       "</style>\n",
       "<table border=\"1\" class=\"dataframe\">\n",
       "  <thead>\n",
       "    <tr style=\"text-align: right;\">\n",
       "      <th></th>\n",
       "      <th>Count</th>\n",
       "      <th>Normalized Count</th>\n",
       "    </tr>\n",
       "    <tr>\n",
       "      <th>Description</th>\n",
       "      <th></th>\n",
       "      <th></th>\n",
       "    </tr>\n",
       "  </thead>\n",
       "  <tbody>\n",
       "    <tr>\n",
       "      <th>quite a bit</th>\n",
       "      <td>2252</td>\n",
       "      <td>0.347960</td>\n",
       "    </tr>\n",
       "    <tr>\n",
       "      <th>somewhat</th>\n",
       "      <td>2054</td>\n",
       "      <td>0.317367</td>\n",
       "    </tr>\n",
       "    <tr>\n",
       "      <th>very much</th>\n",
       "      <td>1355</td>\n",
       "      <td>0.209363</td>\n",
       "    </tr>\n",
       "    <tr>\n",
       "      <th>very little</th>\n",
       "      <td>624</td>\n",
       "      <td>0.096415</td>\n",
       "    </tr>\n",
       "    <tr>\n",
       "      <th>not at all</th>\n",
       "      <td>187</td>\n",
       "      <td>0.028894</td>\n",
       "    </tr>\n",
       "  </tbody>\n",
       "</table>\n",
       "</div>"
      ],
      "text/plain": [
       "             Count  Normalized Count\n",
       "Description                         \n",
       "quite a bit   2252          0.347960\n",
       "somewhat      2054          0.317367\n",
       "very much     1355          0.209363\n",
       "very little    624          0.096415\n",
       "not at all     187          0.028894"
      ]
     },
     "execution_count": 12,
     "metadata": {},
     "output_type": "execute_result"
    }
   ],
   "source": [
    "family_understanding_values = add_health['H1PR5'].value_counts(sort = True, dropna=True)\n",
    "family_understanding_norm = add_health['H1PR5'].value_counts(sort = True, normalize = True, dropna=True)\n",
    "family_understanding_results = pd.DataFrame({\"Count\":family_understanding_values, \"Normalized Count\" : family_understanding_norm})\n",
    "family_understanding_results.at[1, \"Description\"] = \"not at all\"\n",
    "family_understanding_results.at[2, \"Description\"] = \"very little\"\n",
    "family_understanding_results.at[3, \"Description\"] = \"somewhat\"\n",
    "family_understanding_results.at[4, \"Description\"] = \"quite a bit\"\n",
    "family_understanding_results.at[5, \"Description\"] = \"very much\"\n",
    "# How much do you feel that people in your family understand you?\n",
    "family_understanding_results.index = family_understanding_results['Description']\n",
    "family_understanding_results = family_understanding_results.drop(\"Description\", axis=1)\n",
    "family_understanding_results"
   ]
  },
  {
   "cell_type": "code",
   "execution_count": 13,
   "metadata": {},
   "outputs": [
    {
     "data": {
      "text/plain": [
       "<BarContainer object of 5 artists>"
      ]
     },
     "execution_count": 13,
     "metadata": {},
     "output_type": "execute_result"
    },
    {
     "data": {
      "image/png": "[encoded data removed]",
      "text/plain": [
       "<Figure size 1080x360 with 2 Axes>"
      ]
     },
     "metadata": {
      "needs_background": "light"
     },
     "output_type": "display_data"
    }
   ],
   "source": [
    "labels = [\"quite a bit\", \"somewhat\", \"very\\nmuch\", \"very\\nlittle\", \"not\\nat all\"]\n",
    "fig, _ = pyplot.subplots(figsize=(15,5))\n",
    "fig.suptitle('How much do you feel that people in your family understand you?', fontsize=16)\n",
    "pyplot.subplot(1, 2, 1)\n",
    "pyplot.bar(labels, height = family_understanding_values)\n",
    "pyplot.subplot(1, 2, 2)\n",
    "pyplot.bar(labels, height = family_understanding_norm)"
   ]
  },
  {
   "cell_type": "markdown",
   "metadata": {},
   "source": [
    "# Independance in family.\n",
    "### Your mother encourages you to be independent? "
   ]
  },
  {
   "cell_type": "code",
   "execution_count": 14,
   "metadata": {},
   "outputs": [
    {
     "data": {
      "text/html": [
       "<div>\n",
       "<style scoped>\n",
       "    .dataframe tbody tr th:only-of-type {\n",
       "        vertical-align: middle;\n",
       "    }\n",
       "\n",
       "    .dataframe tbody tr th {\n",
       "        vertical-align: top;\n",
       "    }\n",
       "\n",
       "    .dataframe thead th {\n",
       "        text-align: right;\n",
       "    }\n",
       "</style>\n",
       "<table border=\"1\" class=\"dataframe\">\n",
       "  <thead>\n",
       "    <tr style=\"text-align: right;\">\n",
       "      <th></th>\n",
       "      <th>Count</th>\n",
       "      <th>Normalized Count</th>\n",
       "    </tr>\n",
       "    <tr>\n",
       "      <th>Description</th>\n",
       "      <th></th>\n",
       "      <th></th>\n",
       "    </tr>\n",
       "  </thead>\n",
       "  <tbody>\n",
       "    <tr>\n",
       "      <th>strongly agree</th>\n",
       "      <td>2600</td>\n",
       "      <td>0.424975</td>\n",
       "    </tr>\n",
       "    <tr>\n",
       "      <th>agree</th>\n",
       "      <td>2554</td>\n",
       "      <td>0.417457</td>\n",
       "    </tr>\n",
       "    <tr>\n",
       "      <th>neither agree nor disagree</th>\n",
       "      <td>653</td>\n",
       "      <td>0.106734</td>\n",
       "    </tr>\n",
       "    <tr>\n",
       "      <th>disagree</th>\n",
       "      <td>249</td>\n",
       "      <td>0.040700</td>\n",
       "    </tr>\n",
       "    <tr>\n",
       "      <th>strongly disagree</th>\n",
       "      <td>62</td>\n",
       "      <td>0.010134</td>\n",
       "    </tr>\n",
       "  </tbody>\n",
       "</table>\n",
       "</div>"
      ],
      "text/plain": [
       "                            Count  Normalized Count\n",
       "Description                                        \n",
       "strongly agree               2600          0.424975\n",
       "agree                        2554          0.417457\n",
       "neither agree nor disagree    653          0.106734\n",
       "disagree                      249          0.040700\n",
       "strongly disagree              62          0.010134"
      ]
     },
     "execution_count": 14,
     "metadata": {},
     "output_type": "execute_result"
    }
   ],
   "source": [
    "mom_indep_values = add_health['H1PF2'].value_counts(sort = True, dropna=True)\n",
    "mom_indep_norm = add_health['H1PF2'].value_counts(sort = True, normalize = True, dropna=True)\n",
    "mom_indep_results = pd.DataFrame({\"Count\":mom_indep_values, \"Normalized Count\" : mom_indep_norm})\n",
    "mom_indep_results.at[1, \"Description\"] = \"strongly agree\"\n",
    "mom_indep_results.at[2, \"Description\"] = \"agree\"\n",
    "mom_indep_results.at[3, \"Description\"] = \"neither agree nor disagree\"\n",
    "mom_indep_results.at[4, \"Description\"] = \"disagree\"\n",
    "mom_indep_results.at[5, \"Description\"] = \"strongly disagree\"\n",
    "mom_indep_results.index = mom_indep_results['Description']\n",
    "mom_indep_results = mom_indep_results.drop(\"Description\", axis=1)\n",
    "mom_indep_results"
   ]
  },
  {
   "cell_type": "code",
   "execution_count": 15,
   "metadata": {},
   "outputs": [
    {
     "data": {
      "text/plain": [
       "<BarContainer object of 5 artists>"
      ]
     },
     "execution_count": 15,
     "metadata": {},
     "output_type": "execute_result"
    },
    {
     "data": {
      "image/png": "[encoded data removed]",
      "text/plain": [
       "<Figure size 1080x360 with 2 Axes>"
      ]
     },
     "metadata": {
      "needs_background": "light"
     },
     "output_type": "display_data"
    }
   ],
   "source": [
    "labels = [\"strongly\\nagree\", \"agree\", \"neither agree\\nnor disagree\", \"disagree\", \"strongly\\ndisagree\"]\n",
    "fig, _ = pyplot.subplots(figsize=(15,5))\n",
    "fig.suptitle('Your mother encourages you to be independent?', fontsize=16)\n",
    "pyplot.subplot(1, 2, 1)\n",
    "pyplot.bar(labels, height = mom_indep_values)\n",
    "pyplot.subplot(1, 2, 2)\n",
    "pyplot.bar(labels, height = mom_indep_norm)"
   ]
  },
  {
   "cell_type": "markdown",
   "metadata": {},
   "source": [
    "## Combined value of family encoureging to be independant"
   ]
  },
  {
   "cell_type": "code",
   "execution_count": 16,
   "metadata": {},
   "outputs": [
    {
     "data": {
      "text/html": [
       "<div>\n",
       "<style scoped>\n",
       "    .dataframe tbody tr th:only-of-type {\n",
       "        vertical-align: middle;\n",
       "    }\n",
       "\n",
       "    .dataframe tbody tr th {\n",
       "        vertical-align: top;\n",
       "    }\n",
       "\n",
       "    .dataframe thead th {\n",
       "        text-align: right;\n",
       "    }\n",
       "</style>\n",
       "<table border=\"1\" class=\"dataframe\">\n",
       "  <thead>\n",
       "    <tr style=\"text-align: right;\">\n",
       "      <th></th>\n",
       "      <th>Count</th>\n",
       "      <th>Normalized Count</th>\n",
       "    </tr>\n",
       "    <tr>\n",
       "      <th>Description</th>\n",
       "      <th></th>\n",
       "      <th></th>\n",
       "    </tr>\n",
       "  </thead>\n",
       "  <tbody>\n",
       "    <tr>\n",
       "      <th>Yes</th>\n",
       "      <td>4496</td>\n",
       "      <td>0.691267</td>\n",
       "    </tr>\n",
       "    <tr>\n",
       "      <th>No</th>\n",
       "      <td>2008</td>\n",
       "      <td>0.308733</td>\n",
       "    </tr>\n",
       "  </tbody>\n",
       "</table>\n",
       "</div>"
      ],
      "text/plain": [
       "             Count  Normalized Count\n",
       "Description                         \n",
       "Yes           4496          0.691267\n",
       "No            2008          0.308733"
      ]
     },
     "execution_count": 16,
     "metadata": {},
     "output_type": "execute_result"
    }
   ],
   "source": [
    "indep_values = add_health['H1INDCOM'].value_counts(sort = True, dropna=True)\n",
    "indep_norm = add_health['H1INDCOM'].value_counts(sort = True, normalize = True, dropna=True)\n",
    "indep_results = pd.DataFrame({\"Count\":indep_values, \"Normalized Count\" : indep_norm})\n",
    "indep_results.at[1, \"Description\"] = \"Yes\"\n",
    "indep_results.at[0, \"Description\"] = \"No\"\n",
    "indep_results.index = indep_results['Description']\n",
    "indep_results = indep_results.drop(\"Description\", axis=1)\n",
    "indep_results"
   ]
  },
  {
   "cell_type": "code",
   "execution_count": 17,
   "metadata": {},
   "outputs": [
    {
     "data": {
      "text/plain": [
       "<BarContainer object of 2 artists>"
      ]
     },
     "execution_count": 17,
     "metadata": {},
     "output_type": "execute_result"
    },
    {
     "data": {
      "image/png": "[encoded data removed]",
      "text/plain": [
       "<Figure size 1080x360 with 2 Axes>"
      ]
     },
     "metadata": {
      "needs_background": "light"
     },
     "output_type": "display_data"
    }
   ],
   "source": [
    "labels = [\"Yes\", \"No\"]\n",
    "fig, _ = pyplot.subplots(figsize=(15,5))\n",
    "fig.suptitle('Your family encourages you to be independent?', fontsize=16)\n",
    "pyplot.subplot(1, 2, 1)\n",
    "pyplot.bar(labels, height = indep_values)\n",
    "pyplot.subplot(1, 2, 2)\n",
    "pyplot.bar(labels, height = indep_norm)"
   ]
  },
  {
   "cell_type": "code",
   "execution_count": null,
   "metadata": {},
   "outputs": [],
   "source": []
  }
 ],
 "metadata": {
  "kernelspec": {
   "display_name": "Python 3",
   "language": "python",
   "name": "python3"
  },
  "language_info": {
   "codemirror_mode": {
    "name": "ipython",
    "version": 3
   },
   "file_extension": ".py",
   "mimetype": "text/x-python",
   "name": "python",
   "nbconvert_exporter": "python",
   "pygments_lexer": "ipython3",
   "version": "3.7.7"
  }
 },
 "nbformat": 4,
 "nbformat_minor": 4
}

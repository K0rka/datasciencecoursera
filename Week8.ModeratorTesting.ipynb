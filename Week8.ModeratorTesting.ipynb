{
 "cells": [
  {
   "cell_type": "code",
   "execution_count": 2,
   "metadata": {},
   "outputs": [],
   "source": [
    "import pandas as pd\n",
    "import numpy as np\n",
    "import statsmodels.stats.multicomp as multi \n",
    "import statsmodels.formula.api as smf\n"
   ]
  },
  {
   "cell_type": "code",
   "execution_count": 3,
   "metadata": {},
   "outputs": [
    {
     "name": "stdout",
     "output_type": "stream",
     "text": [
      "(6504, 2829)\n"
     ]
    }
   ],
   "source": [
    "add_health = pd.read_csv(\"add_health.csv\", low_memory=False)\n",
    "print(add_health.shape)"
   ]
  },
  {
   "cell_type": "markdown",
   "metadata": {},
   "source": [
    "# Handling variables for check: alcohol consumption and skipped days at school\n",
    "Bare in mind, that originally it's a string variable, because of \"Skip\" answer, which is marked as \" \""
   ]
  },
  {
   "cell_type": "code",
   "execution_count": 4,
   "metadata": {},
   "outputs": [],
   "source": [
    "add_health['SCHSKIP'] = pd.to_numeric(add_health['H1ED2'].replace([\"996\",\"997\", \"998\", \" \"], np.NaN))"
   ]
  },
  {
   "cell_type": "code",
   "execution_count": 5,
   "metadata": {},
   "outputs": [],
   "source": [
    "add_health['ALCTIMESYEAR'] = pd.to_numeric(add_health['H1TO15'].replace([96,97,98], np.NaN))\n",
    "add_health['H1TO16'] = pd.to_numeric(add_health['H1TO16'].replace([96,97, 98, 99], np.NaN))\n",
    "add_health.loc[add_health['H1TO15'] == 1, 'ALCTIMESYEAR'] = 365 #every day\n",
    "add_health.loc[add_health['H1TO15'] == 2, 'ALCTIMESYEAR'] = 4*52 #3-5 times per week\n",
    "add_health.loc[add_health['H1TO15'] == 3, 'ALCTIMESYEAR'] = 1.5*52 #2-3 times per week\n",
    "add_health.loc[add_health['H1TO15'] == 4, 'ALCTIMESYEAR'] = 2.5*12 #2-3 times per month\n",
    "add_health.loc[add_health['H1TO15'] == 5, 'ALCTIMESYEAR'] = 10\n",
    "add_health.loc[add_health['H1TO15'] == 6, 'ALCTIMESYEAR'] = 1.5\n",
    "add_health.loc[add_health['H1TO15'] == 7, 'ALCTIMESYEAR'] = 0.1\n",
    "add_health['ALCCONS'] = add_health['ALCTIMESYEAR']*add_health['H1TO16']"
   ]
  },
  {
   "cell_type": "code",
   "execution_count": 6,
   "metadata": {},
   "outputs": [],
   "source": [
    "add_health['SIGCTIMESYEAR'] = pd.to_numeric(add_health['H1TO5'].replace([96,97,98], np.NaN))\n",
    "add_health['H1TO7'] = pd.to_numeric(add_health['H1TO7'].replace([96,97, 98, 99], np.NaN))\n",
    "add_health = add_health.drop(add_health[add_health['SIGCTIMESYEAR'] == np.NaN].index)\n",
    "add_health = add_health.drop(add_health[add_health['H1TO7'] == np.NaN].index)\n",
    "\n",
    "add_health = add_health.drop(add_health[add_health['SIGCTIMESYEAR'] == np.NaN].index)\n",
    "add_health = add_health.drop(add_health[add_health['H1TO16'] == np.NaN].index)\n",
    "add_health['SIGCCONS'] = add_health['SIGCTIMESYEAR']*add_health['H1TO7']\n"
   ]
  },
  {
   "cell_type": "code",
   "execution_count": 7,
   "metadata": {},
   "outputs": [
    {
     "data": {
      "image/png": "[encoded data removed]",
      "text/plain": [
       "<Figure size 432x288 with 1 Axes>"
      ]
     },
     "metadata": {
      "needs_background": "light"
     },
     "output_type": "display_data"
    }
   ],
   "source": [
    "import matplotlib.pyplot as plt\n",
    "\n",
    "plt.scatter(add_health['SIGCCONS'], add_health['ALCCONS'])\n",
    "plt.title('Cigarettes Vs. Alcohol Consumption')\n",
    "plt.show()"
   ]
  },
  {
   "cell_type": "code",
   "execution_count": 8,
   "metadata": {},
   "outputs": [
    {
     "data": {
      "image/png": "[encoded data removed]",
      "text/plain": [
       "<Figure size 432x288 with 1 Axes>"
      ]
     },
     "metadata": {
      "needs_background": "light"
     },
     "output_type": "display_data"
    }
   ],
   "source": [
    "plt.scatter(add_health['SIGCCONS'], add_health['SCHSKIP'])\n",
    "plt.title('Cigarettes Consumption Vs. Skipping School')\n",
    "plt.show()"
   ]
  },
  {
   "cell_type": "code",
   "execution_count": 9,
   "metadata": {},
   "outputs": [
    {
     "ename": "KeyError",
     "evalue": "'FIGHTS'",
     "output_type": "error",
     "traceback": [
      "\u001b[0;31m---------------------------------------------------------------------------\u001b[0m",
      "\u001b[0;31mKeyError\u001b[0m                                  Traceback (most recent call last)",
      "\u001b[0;32m/usr/local/lib/python3.7/site-packages/pandas/core/indexes/base.py\u001b[0m in \u001b[0;36mget_loc\u001b[0;34m(self, key, method, tolerance)\u001b[0m\n\u001b[1;32m   2645\u001b[0m             \u001b[0;32mtry\u001b[0m\u001b[0;34m:\u001b[0m\u001b[0;34m\u001b[0m\u001b[0;34m\u001b[0m\u001b[0m\n\u001b[0;32m-> 2646\u001b[0;31m                 \u001b[0;32mreturn\u001b[0m \u001b[0mself\u001b[0m\u001b[0;34m.\u001b[0m\u001b[0m_engine\u001b[0m\u001b[0;34m.\u001b[0m\u001b[0mget_loc\u001b[0m\u001b[0;34m(\u001b[0m\u001b[0mkey\u001b[0m\u001b[0;34m)\u001b[0m\u001b[0;34m\u001b[0m\u001b[0;34m\u001b[0m\u001b[0m\n\u001b[0m\u001b[1;32m   2647\u001b[0m             \u001b[0;32mexcept\u001b[0m \u001b[0mKeyError\u001b[0m\u001b[0;34m:\u001b[0m\u001b[0;34m\u001b[0m\u001b[0;34m\u001b[0m\u001b[0m\n",
      "\u001b[0;32mpandas/_libs/index.pyx\u001b[0m in \u001b[0;36mpandas._libs.index.IndexEngine.get_loc\u001b[0;34m()\u001b[0m\n",
      "\u001b[0;32mpandas/_libs/index.pyx\u001b[0m in \u001b[0;36mpandas._libs.index.IndexEngine.get_loc\u001b[0;34m()\u001b[0m\n",
      "\u001b[0;32mpandas/_libs/hashtable_class_helper.pxi\u001b[0m in \u001b[0;36mpandas._libs.hashtable.PyObjectHashTable.get_item\u001b[0;34m()\u001b[0m\n",
      "\u001b[0;32mpandas/_libs/hashtable_class_helper.pxi\u001b[0m in \u001b[0;36mpandas._libs.hashtable.PyObjectHashTable.get_item\u001b[0;34m()\u001b[0m\n",
      "\u001b[0;31mKeyError\u001b[0m: 'FIGHTS'",
      "\nDuring handling of the above exception, another exception occurred:\n",
      "\u001b[0;31mKeyError\u001b[0m                                  Traceback (most recent call last)",
      "\u001b[0;32m<ipython-input-9-0c37a7af3d26>\u001b[0m in \u001b[0;36m<module>\u001b[0;34m\u001b[0m\n\u001b[0;32m----> 1\u001b[0;31m \u001b[0mplt\u001b[0m\u001b[0;34m.\u001b[0m\u001b[0mscatter\u001b[0m\u001b[0;34m(\u001b[0m\u001b[0madd_health\u001b[0m\u001b[0;34m[\u001b[0m\u001b[0;34m'ALCCONS'\u001b[0m\u001b[0;34m]\u001b[0m\u001b[0;34m,\u001b[0m \u001b[0madd_health\u001b[0m\u001b[0;34m[\u001b[0m\u001b[0;34m'FIGHTS'\u001b[0m\u001b[0;34m]\u001b[0m\u001b[0;34m)\u001b[0m\u001b[0;34m\u001b[0m\u001b[0;34m\u001b[0m\u001b[0m\n\u001b[0m\u001b[1;32m      2\u001b[0m \u001b[0mplt\u001b[0m\u001b[0;34m.\u001b[0m\u001b[0mtitle\u001b[0m\u001b[0;34m(\u001b[0m\u001b[0;34m'Alcohol Consumption Vs. Fights amount'\u001b[0m\u001b[0;34m)\u001b[0m\u001b[0;34m\u001b[0m\u001b[0;34m\u001b[0m\u001b[0m\n\u001b[1;32m      3\u001b[0m \u001b[0mplt\u001b[0m\u001b[0;34m.\u001b[0m\u001b[0mshow\u001b[0m\u001b[0;34m(\u001b[0m\u001b[0;34m)\u001b[0m\u001b[0;34m\u001b[0m\u001b[0;34m\u001b[0m\u001b[0m\n",
      "\u001b[0;32m/usr/local/lib/python3.7/site-packages/pandas/core/frame.py\u001b[0m in \u001b[0;36m__getitem__\u001b[0;34m(self, key)\u001b[0m\n\u001b[1;32m   2798\u001b[0m             \u001b[0;32mif\u001b[0m \u001b[0mself\u001b[0m\u001b[0;34m.\u001b[0m\u001b[0mcolumns\u001b[0m\u001b[0;34m.\u001b[0m\u001b[0mnlevels\u001b[0m \u001b[0;34m>\u001b[0m \u001b[0;36m1\u001b[0m\u001b[0;34m:\u001b[0m\u001b[0;34m\u001b[0m\u001b[0;34m\u001b[0m\u001b[0m\n\u001b[1;32m   2799\u001b[0m                 \u001b[0;32mreturn\u001b[0m \u001b[0mself\u001b[0m\u001b[0;34m.\u001b[0m\u001b[0m_getitem_multilevel\u001b[0m\u001b[0;34m(\u001b[0m\u001b[0mkey\u001b[0m\u001b[0;34m)\u001b[0m\u001b[0;34m\u001b[0m\u001b[0;34m\u001b[0m\u001b[0m\n\u001b[0;32m-> 2800\u001b[0;31m             \u001b[0mindexer\u001b[0m \u001b[0;34m=\u001b[0m \u001b[0mself\u001b[0m\u001b[0;34m.\u001b[0m\u001b[0mcolumns\u001b[0m\u001b[0;34m.\u001b[0m\u001b[0mget_loc\u001b[0m\u001b[0;34m(\u001b[0m\u001b[0mkey\u001b[0m\u001b[0;34m)\u001b[0m\u001b[0;34m\u001b[0m\u001b[0;34m\u001b[0m\u001b[0m\n\u001b[0m\u001b[1;32m   2801\u001b[0m             \u001b[0;32mif\u001b[0m \u001b[0mis_integer\u001b[0m\u001b[0;34m(\u001b[0m\u001b[0mindexer\u001b[0m\u001b[0;34m)\u001b[0m\u001b[0;34m:\u001b[0m\u001b[0;34m\u001b[0m\u001b[0;34m\u001b[0m\u001b[0m\n\u001b[1;32m   2802\u001b[0m                 \u001b[0mindexer\u001b[0m \u001b[0;34m=\u001b[0m \u001b[0;34m[\u001b[0m\u001b[0mindexer\u001b[0m\u001b[0;34m]\u001b[0m\u001b[0;34m\u001b[0m\u001b[0;34m\u001b[0m\u001b[0m\n",
      "\u001b[0;32m/usr/local/lib/python3.7/site-packages/pandas/core/indexes/base.py\u001b[0m in \u001b[0;36mget_loc\u001b[0;34m(self, key, method, tolerance)\u001b[0m\n\u001b[1;32m   2646\u001b[0m                 \u001b[0;32mreturn\u001b[0m \u001b[0mself\u001b[0m\u001b[0;34m.\u001b[0m\u001b[0m_engine\u001b[0m\u001b[0;34m.\u001b[0m\u001b[0mget_loc\u001b[0m\u001b[0;34m(\u001b[0m\u001b[0mkey\u001b[0m\u001b[0;34m)\u001b[0m\u001b[0;34m\u001b[0m\u001b[0;34m\u001b[0m\u001b[0m\n\u001b[1;32m   2647\u001b[0m             \u001b[0;32mexcept\u001b[0m \u001b[0mKeyError\u001b[0m\u001b[0;34m:\u001b[0m\u001b[0;34m\u001b[0m\u001b[0;34m\u001b[0m\u001b[0m\n\u001b[0;32m-> 2648\u001b[0;31m                 \u001b[0;32mreturn\u001b[0m \u001b[0mself\u001b[0m\u001b[0;34m.\u001b[0m\u001b[0m_engine\u001b[0m\u001b[0;34m.\u001b[0m\u001b[0mget_loc\u001b[0m\u001b[0;34m(\u001b[0m\u001b[0mself\u001b[0m\u001b[0;34m.\u001b[0m\u001b[0m_maybe_cast_indexer\u001b[0m\u001b[0;34m(\u001b[0m\u001b[0mkey\u001b[0m\u001b[0;34m)\u001b[0m\u001b[0;34m)\u001b[0m\u001b[0;34m\u001b[0m\u001b[0;34m\u001b[0m\u001b[0m\n\u001b[0m\u001b[1;32m   2649\u001b[0m         \u001b[0mindexer\u001b[0m \u001b[0;34m=\u001b[0m \u001b[0mself\u001b[0m\u001b[0;34m.\u001b[0m\u001b[0mget_indexer\u001b[0m\u001b[0;34m(\u001b[0m\u001b[0;34m[\u001b[0m\u001b[0mkey\u001b[0m\u001b[0;34m]\u001b[0m\u001b[0;34m,\u001b[0m \u001b[0mmethod\u001b[0m\u001b[0;34m=\u001b[0m\u001b[0mmethod\u001b[0m\u001b[0;34m,\u001b[0m \u001b[0mtolerance\u001b[0m\u001b[0;34m=\u001b[0m\u001b[0mtolerance\u001b[0m\u001b[0;34m)\u001b[0m\u001b[0;34m\u001b[0m\u001b[0;34m\u001b[0m\u001b[0m\n\u001b[1;32m   2650\u001b[0m         \u001b[0;32mif\u001b[0m \u001b[0mindexer\u001b[0m\u001b[0;34m.\u001b[0m\u001b[0mndim\u001b[0m \u001b[0;34m>\u001b[0m \u001b[0;36m1\u001b[0m \u001b[0;32mor\u001b[0m \u001b[0mindexer\u001b[0m\u001b[0;34m.\u001b[0m\u001b[0msize\u001b[0m \u001b[0;34m>\u001b[0m \u001b[0;36m1\u001b[0m\u001b[0;34m:\u001b[0m\u001b[0;34m\u001b[0m\u001b[0;34m\u001b[0m\u001b[0m\n",
      "\u001b[0;32mpandas/_libs/index.pyx\u001b[0m in \u001b[0;36mpandas._libs.index.IndexEngine.get_loc\u001b[0;34m()\u001b[0m\n",
      "\u001b[0;32mpandas/_libs/index.pyx\u001b[0m in \u001b[0;36mpandas._libs.index.IndexEngine.get_loc\u001b[0;34m()\u001b[0m\n",
      "\u001b[0;32mpandas/_libs/hashtable_class_helper.pxi\u001b[0m in \u001b[0;36mpandas._libs.hashtable.PyObjectHashTable.get_item\u001b[0;34m()\u001b[0m\n",
      "\u001b[0;32mpandas/_libs/hashtable_class_helper.pxi\u001b[0m in \u001b[0;36mpandas._libs.hashtable.PyObjectHashTable.get_item\u001b[0;34m()\u001b[0m\n",
      "\u001b[0;31mKeyError\u001b[0m: 'FIGHTS'"
     ]
    }
   ],
   "source": [
    "plt.scatter(add_health['ALCCONS'], add_health['FIGHTS'])\n",
    "plt.title('Alcohol Consumption Vs. Fights amount')\n",
    "plt.show()"
   ]
  },
  {
   "cell_type": "markdown",
   "metadata": {},
   "source": [
    "# Statistical check\n",
    "### Null-hypothesis is: there's no correlation between smoking sigarettes and alcohol consumption among adolescents\n",
    "Both of the variables are quantitative, so in order to check hypothesis, Pearson correlation coefficient will be used"
   ]
  },
  {
   "cell_type": "code",
   "execution_count": 10,
   "metadata": {},
   "outputs": [
    {
     "name": "stdout",
     "output_type": "stream",
     "text": [
      "Correlation between sigarettes consumption and skipping school lessons is:\n",
      "0.2071100590275429\n",
      "p-value is: \n",
      "1.4093262023968012e-13\n",
      "\n",
      "Correlation between sigarettes consumption and alcohol consumption is:\n",
      "0.12699258734793745\n",
      "p-value is: \n",
      "6.680592465100921e-06\n",
      "\n",
      "\n",
      "*p-value reflects probability of getting this correlation if variables are not correlated\n"
     ]
    }
   ],
   "source": [
    "import scipy\n",
    "sub = add_health[['ALCCONS', 'SCHSKIP', 'SIGCCONS']].dropna()\n",
    "\n",
    "print(\"Correlation between sigarettes consumption and skipping school lessons is:\")\n",
    "print (scipy.stats.pearsonr(sub['SIGCCONS'], sub['SCHSKIP'])[0])\n",
    "print('p-value is: \\n' + str(scipy.stats.pearsonr(sub['SIGCCONS'], sub['SCHSKIP'])[1]))\n",
    "print()\n",
    "print(\"Correlation between sigarettes consumption and alcohol consumption is:\")\n",
    "print (scipy.stats.pearsonr(sub['SIGCCONS'], sub['ALCCONS'])[0])\n",
    "print('p-value is: \\n' + str(scipy.stats.pearsonr(sub['SIGCCONS'], sub['ALCCONS'])[1]))\n",
    "print()\n",
    "print('\\n*p-value reflects probability of getting this correlation if variables are not correlated')\n",
    "\n"
   ]
  },
  {
   "cell_type": "code",
   "execution_count": 11,
   "metadata": {},
   "outputs": [
    {
     "ename": "ValueError",
     "evalue": "array must not contain infs or NaNs",
     "output_type": "error",
     "traceback": [
      "\u001b[0;31m---------------------------------------------------------------------------\u001b[0m",
      "\u001b[0;31mValueError\u001b[0m                                Traceback (most recent call last)",
      "\u001b[0;32m<ipython-input-11-0fb85fbad83d>\u001b[0m in \u001b[0;36m<module>\u001b[0;34m\u001b[0m\n\u001b[1;32m      1\u001b[0m \u001b[0;31m# print (scipy.stats.pearsonr(add_health['MARJUSAGE'], add_health['ALCCONS']))\u001b[0m\u001b[0;34m\u001b[0m\u001b[0;34m\u001b[0m\u001b[0;34m\u001b[0m\u001b[0m\n\u001b[0;32m----> 2\u001b[0;31m \u001b[0mprint\u001b[0m \u001b[0;34m(\u001b[0m\u001b[0mscipy\u001b[0m\u001b[0;34m.\u001b[0m\u001b[0mstats\u001b[0m\u001b[0;34m.\u001b[0m\u001b[0mpearsonr\u001b[0m\u001b[0;34m(\u001b[0m\u001b[0madd_health\u001b[0m\u001b[0;34m[\u001b[0m\u001b[0;34m'ALCCONS'\u001b[0m\u001b[0;34m]\u001b[0m\u001b[0;34m,\u001b[0m \u001b[0madd_health\u001b[0m\u001b[0;34m[\u001b[0m\u001b[0;34m'SCHSKIP'\u001b[0m\u001b[0;34m]\u001b[0m\u001b[0;34m)\u001b[0m\u001b[0;34m)\u001b[0m\u001b[0;34m\u001b[0m\u001b[0;34m\u001b[0m\u001b[0m\n\u001b[0m\u001b[1;32m      3\u001b[0m \u001b[0;34m\u001b[0m\u001b[0m\n\u001b[1;32m      4\u001b[0m \u001b[0mprint\u001b[0m\u001b[0;34m(\u001b[0m\u001b[0;34m)\u001b[0m\u001b[0;34m\u001b[0m\u001b[0;34m\u001b[0m\u001b[0m\n\u001b[1;32m      5\u001b[0m \u001b[0;34m\u001b[0m\u001b[0m\n",
      "\u001b[0;32m/usr/local/lib/python3.7/site-packages/scipy/stats/stats.py\u001b[0m in \u001b[0;36mpearsonr\u001b[0;34m(x, y)\u001b[0m\n\u001b[1;32m   3528\u001b[0m     \u001b[0;31m# scipy.linalg.norm(xm) does not overflow if xm is, for example,\u001b[0m\u001b[0;34m\u001b[0m\u001b[0;34m\u001b[0m\u001b[0;34m\u001b[0m\u001b[0m\n\u001b[1;32m   3529\u001b[0m     \u001b[0;31m# [-5e210, 5e210, 3e200, -3e200]\u001b[0m\u001b[0;34m\u001b[0m\u001b[0;34m\u001b[0m\u001b[0;34m\u001b[0m\u001b[0m\n\u001b[0;32m-> 3530\u001b[0;31m     \u001b[0mnormxm\u001b[0m \u001b[0;34m=\u001b[0m \u001b[0mlinalg\u001b[0m\u001b[0;34m.\u001b[0m\u001b[0mnorm\u001b[0m\u001b[0;34m(\u001b[0m\u001b[0mxm\u001b[0m\u001b[0;34m)\u001b[0m\u001b[0;34m\u001b[0m\u001b[0;34m\u001b[0m\u001b[0m\n\u001b[0m\u001b[1;32m   3531\u001b[0m     \u001b[0mnormym\u001b[0m \u001b[0;34m=\u001b[0m \u001b[0mlinalg\u001b[0m\u001b[0;34m.\u001b[0m\u001b[0mnorm\u001b[0m\u001b[0;34m(\u001b[0m\u001b[0mym\u001b[0m\u001b[0;34m)\u001b[0m\u001b[0;34m\u001b[0m\u001b[0;34m\u001b[0m\u001b[0m\n\u001b[1;32m   3532\u001b[0m \u001b[0;34m\u001b[0m\u001b[0m\n",
      "\u001b[0;32m/usr/local/lib/python3.7/site-packages/scipy/linalg/misc.py\u001b[0m in \u001b[0;36mnorm\u001b[0;34m(a, ord, axis, keepdims, check_finite)\u001b[0m\n\u001b[1;32m    140\u001b[0m     \u001b[0;31m# Differs from numpy only in non-finite handling and the use of blas.\u001b[0m\u001b[0;34m\u001b[0m\u001b[0;34m\u001b[0m\u001b[0;34m\u001b[0m\u001b[0m\n\u001b[1;32m    141\u001b[0m     \u001b[0;32mif\u001b[0m \u001b[0mcheck_finite\u001b[0m\u001b[0;34m:\u001b[0m\u001b[0;34m\u001b[0m\u001b[0;34m\u001b[0m\u001b[0m\n\u001b[0;32m--> 142\u001b[0;31m         \u001b[0ma\u001b[0m \u001b[0;34m=\u001b[0m \u001b[0mnp\u001b[0m\u001b[0;34m.\u001b[0m\u001b[0masarray_chkfinite\u001b[0m\u001b[0;34m(\u001b[0m\u001b[0ma\u001b[0m\u001b[0;34m)\u001b[0m\u001b[0;34m\u001b[0m\u001b[0;34m\u001b[0m\u001b[0m\n\u001b[0m\u001b[1;32m    143\u001b[0m     \u001b[0;32melse\u001b[0m\u001b[0;34m:\u001b[0m\u001b[0;34m\u001b[0m\u001b[0;34m\u001b[0m\u001b[0m\n\u001b[1;32m    144\u001b[0m         \u001b[0ma\u001b[0m \u001b[0;34m=\u001b[0m \u001b[0mnp\u001b[0m\u001b[0;34m.\u001b[0m\u001b[0masarray\u001b[0m\u001b[0;34m(\u001b[0m\u001b[0ma\u001b[0m\u001b[0;34m)\u001b[0m\u001b[0;34m\u001b[0m\u001b[0;34m\u001b[0m\u001b[0m\n",
      "\u001b[0;32m/usr/local/lib/python3.7/site-packages/numpy/lib/function_base.py\u001b[0m in \u001b[0;36masarray_chkfinite\u001b[0;34m(a, dtype, order)\u001b[0m\n\u001b[1;32m    497\u001b[0m     \u001b[0;32mif\u001b[0m \u001b[0ma\u001b[0m\u001b[0;34m.\u001b[0m\u001b[0mdtype\u001b[0m\u001b[0;34m.\u001b[0m\u001b[0mchar\u001b[0m \u001b[0;32min\u001b[0m \u001b[0mtypecodes\u001b[0m\u001b[0;34m[\u001b[0m\u001b[0;34m'AllFloat'\u001b[0m\u001b[0;34m]\u001b[0m \u001b[0;32mand\u001b[0m \u001b[0;32mnot\u001b[0m \u001b[0mnp\u001b[0m\u001b[0;34m.\u001b[0m\u001b[0misfinite\u001b[0m\u001b[0;34m(\u001b[0m\u001b[0ma\u001b[0m\u001b[0;34m)\u001b[0m\u001b[0;34m.\u001b[0m\u001b[0mall\u001b[0m\u001b[0;34m(\u001b[0m\u001b[0;34m)\u001b[0m\u001b[0;34m:\u001b[0m\u001b[0;34m\u001b[0m\u001b[0;34m\u001b[0m\u001b[0m\n\u001b[1;32m    498\u001b[0m         raise ValueError(\n\u001b[0;32m--> 499\u001b[0;31m             \"array must not contain infs or NaNs\")\n\u001b[0m\u001b[1;32m    500\u001b[0m     \u001b[0;32mreturn\u001b[0m \u001b[0ma\u001b[0m\u001b[0;34m\u001b[0m\u001b[0;34m\u001b[0m\u001b[0m\n\u001b[1;32m    501\u001b[0m \u001b[0;34m\u001b[0m\u001b[0m\n",
      "\u001b[0;31mValueError\u001b[0m: array must not contain infs or NaNs"
     ]
    }
   ],
   "source": [
    "# print (scipy.stats.pearsonr(add_health['MARJUSAGE'], add_health['ALCCONS']))\n",
    "print (scipy.stats.pearsonr(add_health['ALCCONS'], add_health['SCHSKIP']))\n",
    "\n",
    "print()\n",
    "\n",
    "# print (scipy.stats.pearsonr(add_health['ALCCONS'], add_health['FIGHTS']))\n",
    "# print (scipy.stats.pearsonr(add_health['MARJUSAGE'], add_health['FIGHTS']))\n",
    "# print (scipy.stats.pearsonr(add_health['SIGCCONS'], add_health['FIGHTS']))\n",
    "# print (scipy.stats.pearsonr(add_health['WORKH'], add_health['FIGHTS']))\n",
    "# print (scipy.stats.pearsonr(add_health['COCUSAGE'], add_health['FIGHTS']))\n",
    "# print (scipy.stats.pearsonr(add_health['COCUSAGE'], add_health['SCHSKIP']))\n",
    "\n",
    "print()\n",
    "\n",
    "\n",
    "# print (scipy.stats.pearsonr(add_health['WORKP'], add_health['WORKH']))\n",
    "# print (scipy.stats.pearsonr(add_health['WORKPS'], add_health['WORKHS']))\n",
    "# print (scipy.stats.pearsonr(add_health['WORKH'], add_health['WORKHS']))\n"
   ]
  },
  {
   "cell_type": "code",
   "execution_count": 12,
   "metadata": {},
   "outputs": [
    {
     "name": "stdout",
     "output_type": "stream",
     "text": [
      "Correlation between sigarettes consumption and skipping school lessons for religious adolescents is:\n",
      "0.196713271793804\n",
      "p-value is: \n",
      "7.726023946362247e-11\n",
      "\n",
      "Correlation between sigarettes consumption and skipping school lessons for non-religious adolescents is:\n",
      "0.1812442809784094\n",
      "p-value is: \n",
      "4.115133570469784e-05\n"
     ]
    }
   ],
   "source": [
    "#how important is religion for you\n",
    "add_health['H1RE4'] = add_health['H1RE4'].replace(6, np.NaN)\n",
    "add_health['H1RE4'] = add_health['H1RE4'].replace(8, np.NaN)\n",
    "#if has no religion replace with the value not important\n",
    "add_health['H1RE4'] = add_health['H1RE4'].replace(7, 4)\n",
    "add_health['H1RE4'] = add_health['H1RE4'].astype('category')\n",
    "sub = add_health[['H1RE4', 'SCHSKIP', 'SIGCCONS']].dropna()\n",
    "sub['H1RE4'] = sub['H1RE4'].astype('category')\n",
    "\n",
    "#1 & 2 in the answers means that religion is very or fairly important\n",
    "sub1 = sub[(sub['H1RE4'] == 1) | (sub['H1RE4'] == 2)]\n",
    "#3 & 4 in the answers means that religion is fairly or completely not important\n",
    "sub2 = sub[(sub['H1RE4'] == 3) | (sub['H1RE4'] == 4)]\n",
    "\n",
    "print(\"Correlation between sigarettes consumption and skipping school lessons for religious adolescents is:\")\n",
    "print (scipy.stats.pearsonr(sub1['SIGCCONS'], sub1['SCHSKIP'])[0])\n",
    "print('p-value is: \\n' + str(scipy.stats.pearsonr(sub1['SIGCCONS'], sub1['SCHSKIP'])[1]))\n",
    "print()\n",
    "print(\"Correlation between sigarettes consumption and skipping school lessons for non-religious adolescents is:\")\n",
    "print (scipy.stats.pearsonr(sub2['SIGCCONS'], sub2['SCHSKIP'])[0])\n",
    "print('p-value is: \\n' + str(scipy.stats.pearsonr(sub2['SIGCCONS'], sub2['SCHSKIP'])[1]))\n"
   ]
  },
  {
   "cell_type": "code",
   "execution_count": 13,
   "metadata": {},
   "outputs": [
    {
     "name": "stdout",
     "output_type": "stream",
     "text": [
      "Correlation between sigarettes consumption and skipping school lessons for religious adolescents is:\n",
      "0.10846402560015227\n",
      "p-value is: \n",
      "7.512279646736816e-07\n",
      "\n",
      "Correlation between sigarettes consumption and skipping school lessons for non-religious adolescents is:\n",
      "0.14212739842405725\n",
      "p-value is: \n",
      "8.165624568275958e-05\n"
     ]
    }
   ],
   "source": [
    "#how important is religion for you\n",
    "add_health['H1RE4'] = add_health['H1RE4'].replace(6, np.NaN)\n",
    "add_health['H1RE4'] = add_health['H1RE4'].replace(8, np.NaN)\n",
    "#if has no religion replace with the value not important\n",
    "add_health['H1RE4'] = add_health['H1RE4'].replace(7, 4)\n",
    "add_health['H1RE4'] = add_health['H1RE4'].astype('category')\n",
    "sub = add_health[['H1RE4', 'SCHSKIP', 'ALCCONS']].dropna()\n",
    "sub['H1RE4'] = sub['H1RE4'].astype('category')\n",
    "\n",
    "#1 & 2 in the answers means that religion is very or fairly important\n",
    "sub1 = sub[(sub['H1RE4'] == 1) | (sub['H1RE4'] == 2)]\n",
    "#3 & 4 in the answers means that religion is fairly or completely not important\n",
    "sub2 = sub[(sub['H1RE4'] == 3) | (sub['H1RE4'] == 4)]\n",
    "\n",
    "print(\"Correlation between sigarettes consumption and skipping school lessons for religious adolescents is:\")\n",
    "print (scipy.stats.pearsonr(sub1['ALCCONS'], sub1['SCHSKIP'])[0])\n",
    "print('p-value is: \\n' + str(scipy.stats.pearsonr(sub1['ALCCONS'], sub1['SCHSKIP'])[1]))\n",
    "print()\n",
    "print(\"Correlation between sigarettes consumption and skipping school lessons for non-religious adolescents is:\")\n",
    "print (scipy.stats.pearsonr(sub2['ALCCONS'], sub2['SCHSKIP'])[0])\n",
    "print('p-value is: \\n' + str(scipy.stats.pearsonr(sub2['ALCCONS'], sub2['SCHSKIP'])[1]))\n"
   ]
  },
  {
   "cell_type": "code",
   "execution_count": 15,
   "metadata": {},
   "outputs": [
    {
     "data": {
      "image/png": "[encoded data removed]",
      "text/plain": [
       "<Figure size 432x288 with 1 Axes>"
      ]
     },
     "metadata": {
      "needs_background": "light"
     },
     "output_type": "display_data"
    }
   ],
   "source": [
    "plt.scatter(sub1['ALCCONS'], sub1['SCHSKIP'])\n",
    "plt.title('Cigarettes Consumption Vs. Skipping School')\n",
    "plt.show()"
   ]
  },
  {
   "cell_type": "code",
   "execution_count": 62,
   "metadata": {},
   "outputs": [
    {
     "data": {
      "image/png": "[encoded data removed]",
      "text/plain": [
       "<Figure size 432x288 with 1 Axes>"
      ]
     },
     "metadata": {
      "needs_background": "light"
     },
     "output_type": "display_data"
    }
   ],
   "source": [
    "plt.scatter(sub2['SIGCCONS'], sub2['SCHSKIP'])\n",
    "plt.title('Cigarettes Consumption Vs. Skipping School')\n",
    "plt.show()"
   ]
  },
  {
   "cell_type": "code",
   "execution_count": 31,
   "metadata": {},
   "outputs": [],
   "source": [
    "field = 'SCHSKIP'"
   ]
  },
  {
   "cell_type": "code",
   "execution_count": 33,
   "metadata": {},
   "outputs": [
    {
     "name": "stdout",
     "output_type": "stream",
     "text": [
      "Correlation between alcohol consumption and skipping school lessons for general population of adolescents is:\n",
      "0.12369144327219336\n",
      "p-value is: \n",
      "3.854407304935836e-11\n",
      "\n",
      "Correlation between alcohol consumption and skipping school lessons for asian adolescents is:\n",
      "0.6434688208726075\n",
      "p-value is: \n",
      "1.7274086846520035e-15\n",
      "\n",
      "Correlation between alcohol consumption and skipping school lessons for white adolescents is:\n",
      "0.125941834125765\n",
      "p-value is: \n",
      "8.879985646052405e-09\n",
      "\n",
      "Correlation between alcohol consumption and skipping school lessons for Black or African American adolescents is:\n",
      "0.04134300153307485\n",
      "p-value is: \n",
      "0.3538421385951609\n",
      "\n",
      "Correlation between alcohol consumption and skipping school lessons for Native American adolescents is:\n",
      "0.22748217709978147\n",
      "p-value is: \n",
      "0.021483590117593543\n"
     ]
    }
   ],
   "source": [
    "field = 'SCHSKIP'\n",
    "sub_main = add_health[[field, 'ALCCONS']].dropna()\n",
    "\n",
    "sub = add_health[['H1GI6D', field, 'ALCCONS']].dropna()\n",
    "sub_b = add_health[['H1GI6B', field, 'ALCCONS']].dropna()\n",
    "sub_w = add_health[['H1GI6A', field, 'ALCCONS']].dropna()\n",
    "sub_c = add_health[['H1GI6C', field, 'ALCCONS']].dropna()\n",
    "\n",
    "#1 are those who marked their race as asian\n",
    "sub1 = sub[sub['H1GI6D'] == 1]\n",
    "#1 are those who marked their race as Black or African American\n",
    "sub2 = sub_b[sub_b['H1GI6B'] == 1]\n",
    "#1 are those who marked their race as white\n",
    "sub3 = sub_w[sub_w['H1GI6A'] == 1]\n",
    "#1 are those who marked their race as Native American\n",
    "sub4 = sub_c[sub_c['H1GI6C'] == 1]\n",
    "main_stat = scipy.stats.pearsonr(sub_main['ALCCONS'], sub_main[field])\n",
    "asian_stat = scipy.stats.pearsonr(sub1['ALCCONS'], sub1[field])\n",
    "black_stat = scipy.stats.pearsonr(sub2['ALCCONS'], sub2[field])\n",
    "white_stat = scipy.stats.pearsonr(sub3['ALCCONS'], sub3[field])\n",
    "native_stat = scipy.stats.pearsonr(sub4['ALCCONS'], sub4[field])\n",
    "\n",
    "print(\"Correlation between alcohol consumption and skipping school lessons for general population of adolescents is:\")\n",
    "print (main_stat[0])\n",
    "print('p-value is: \\n' + str(main_stat[1]))\n",
    "print()\n",
    "print(\"Correlation between alcohol consumption and skipping school lessons for asian adolescents is:\")\n",
    "print (asian_stat[0])\n",
    "print('p-value is: \\n' + str(asian_stat[1]))\n",
    "print()\n",
    "print(\"Correlation between alcohol consumption and skipping school lessons for white adolescents is:\")\n",
    "print (white_stat[0])\n",
    "print('p-value is: \\n' + str(white_stat[1]))\n",
    "print()\n",
    "print(\"Correlation between alcohol consumption and skipping school lessons for Black or African American adolescents is:\")\n",
    "print (black_stat[0])\n",
    "print('p-value is: \\n' + str(black_stat[1]))\n",
    "print()\n",
    "print(\"Correlation between alcohol consumption and skipping school lessons for Native American adolescents is:\")\n",
    "print (native_stat[0])\n",
    "print('p-value is: \\n' + str(native_stat[1]))\n"
   ]
  },
  {
   "cell_type": "code",
   "execution_count": 22,
   "metadata": {},
   "outputs": [
    {
     "name": "stdout",
     "output_type": "stream",
     "text": [
      "Correlation between sigarettes consumption and skipping school lessons for asian adolescents is:\n",
      "0.6434688208726075\n",
      "p-value is: \n",
      "1.7274086846520035e-15\n",
      "\n",
      "Correlation between sigarettes consumption and skipping school lessons for white adolescents is:\n",
      "0.04134300153307485\n",
      "p-value is: \n",
      "0.3538421385951609\n",
      "\n",
      "Correlation between sigarettes consumption and skipping school lessons for Black or African American adolescents is:\n",
      "0.125941834125765\n",
      "p-value is: \n",
      "8.879985646052405e-09\n",
      "\n",
      "Correlation between sigarettes consumption and skipping school lessons for Native American adolescents is:\n",
      "0.22748217709978147\n",
      "p-value is: \n",
      "0.021483590117593543\n"
     ]
    }
   ],
   "source": [
    "sub = add_health[['H1GI6D', 'SIGCCONS', 'ALCCONS']].dropna()\n",
    "sub_b = add_health[['H1GI6B', 'SIGCCONS', 'ALCCONS']].dropna()\n",
    "sub_w = add_health[['H1GI6A', 'SIGCCONS', 'ALCCONS']].dropna()\n",
    "sub_c = add_health[['H1GI6C', 'SIGCCONS', 'ALCCONS']].dropna()\n",
    "\n",
    "#1 are those who marked their race as asian\n",
    "sub1 = sub[sub['H1GI6D'] == 1]\n",
    "#1 are those who marked their race as Black or African American\n",
    "sub2 = sub_b[sub_b['H1GI6B'] == 1]\n",
    "#1 are those who marked their race as white\n",
    "sub3 = sub_w[sub_w['H1GI6A'] == 1]\n",
    "#1 are those who marked their race as Native American\n",
    "sub4 = sub_c[sub_c['H1GI6C'] == 1]\n",
    "\n",
    "\n",
    "print(\"Correlation between sigarettes consumption and skipping school lessons for asian adolescents is:\")\n",
    "print (scipy.stats.pearsonr(sub1['SIGCCONS'], sub1['SCHSKIP'])[0])\n",
    "print('p-value is: \\n' + str(scipy.stats.pearsonr(sub1['ALCCONS'], sub1['SCHSKIP'])[1]))\n",
    "print()\n",
    "print(\"Correlation between sigarettes consumption and skipping school lessons for white adolescents is:\")\n",
    "print (scipy.stats.pearsonr(sub2['SIGCCONS'], sub2['SCHSKIP'])[0])\n",
    "print('p-value is: \\n' + str(scipy.stats.pearsonr(sub2['ALCCONS'], sub2['SCHSKIP'])[1]))\n",
    "print()\n",
    "print(\"Correlation between sigarettes consumption and skipping school lessons for Black or African American adolescents is:\")\n",
    "print (scipy.stats.pearsonr(sub3['ALCCONS'], sub3['SCHSKIP'])[0])\n",
    "print('p-value is: \\n' + str(scipy.stats.pearsonr(sub3['ALCCONS'], sub3['SCHSKIP'])[1]))\n",
    "print()\n",
    "print(\"Correlation between sigarettes consumption and skipping school lessons for Native American adolescents is:\")\n",
    "print (scipy.stats.pearsonr(sub4['ALCCONS'], sub4['SCHSKIP'])[0])\n",
    "print('p-value is: \\n' + str(scipy.stats.pearsonr(sub4['ALCCONS'], sub4['SCHSKIP'])[1]))\n"
   ]
  },
  {
   "cell_type": "code",
   "execution_count": 35,
   "metadata": {},
   "outputs": [
    {
     "data": {
      "image/png": "[encoded data removed]",
      "text/plain": [
       "<Figure size 432x288 with 1 Axes>"
      ]
     },
     "metadata": {
      "needs_background": "light"
     },
     "output_type": "display_data"
    }
   ],
   "source": [
    "plt.scatter(sub1['ALCCONS'], sub1['SCHSKIP'])\n",
    "plt.title('Alcohol Consumption Vs. Skipping School')\n",
    "plt.show()"
   ]
  },
  {
   "cell_type": "code",
   "execution_count": 19,
   "metadata": {},
   "outputs": [
    {
     "data": {
      "image/png": "[encoded data removed]",
      "text/plain": [
       "<Figure size 432x288 with 1 Axes>"
      ]
     },
     "metadata": {
      "needs_background": "light"
     },
     "output_type": "display_data"
    }
   ],
   "source": [
    "plt.scatter(sub2['SIGCCONS'], sub2['SCHSKIP'])\n",
    "plt.title('Cigarettes Consumption Vs. Skipping School')\n",
    "plt.show()"
   ]
  },
  {
   "cell_type": "code",
   "execution_count": 20,
   "metadata": {},
   "outputs": [
    {
     "data": {
      "image/png": "[encoded data removed]",
      "text/plain": [
       "<Figure size 432x288 with 1 Axes>"
      ]
     },
     "metadata": {
      "needs_background": "light"
     },
     "output_type": "display_data"
    }
   ],
   "source": [
    "plt.scatter(sub3['SIGCCONS'], sub3['SCHSKIP'])\n",
    "plt.title('Cigarettes Consumption Vs. Skipping School')\n",
    "plt.show()"
   ]
  },
  {
   "cell_type": "code",
   "execution_count": 64,
   "metadata": {},
   "outputs": [
    {
     "name": "stdout",
     "output_type": "stream",
     "text": [
      "Correlation between sigarettes consumption and skipping school lessons for indep adolescents is:\n",
      "0.7380257603682937\n",
      "p-value is: \n",
      "0.036579761977986944\n",
      "\n",
      "Correlation between sigarettes consumption and skipping school lessons for non-indep adolescents is:\n",
      "-0.056292235441783134\n",
      "p-value is: \n",
      "4.546003680150449e-07\n"
     ]
    }
   ],
   "source": [
    "#Parents give you right to decide different aspects of your life: H1WP1 -> H1WP7\n",
    "#I will combine these columns 5 and more Yes -> encourage independance, otherwise No\n",
    "add_health[add_health.filter(regex=('H1WP[1-7]{1}$')).columns] = add_health.filter(regex=('H1WP[1-7]{1}$')).replace([6,7, 8, 9], np.NaN)\n",
    "\n",
    "add_health['H1INDCOM'] = np.where(add_health.filter(regex=('H1WP[1-7]{1}$')).sum(axis=1) > 4, 1, 0)\n",
    "\n",
    "#1 & 2 in the answers means that religion is very or fairly important\n",
    "sub1 = add_health[add_health['H1GI6D'] == 1]\n",
    "#3 & 4 in the answers means that religion is fairly or completely not important\n",
    "sub2 = add_health[add_health['H1GI6D'] != 1]\n",
    "\n",
    "\n",
    "print(\"Correlation between sigarettes consumption and skipping school lessons for indep adolescents is:\")\n",
    "print (scipy.stats.pearsonr(sub1['SIGCCONS'], sub1['SCHSKIP'])[0])\n",
    "print('p-value is: \\n' + str(scipy.stats.pearsonr(sub1['SIGCCONS'], sub1['SCHSKIP'])[1]))\n",
    "print()\n",
    "print(\"Correlation between sigarettes consumption and skipping school lessons for non-indep adolescents is:\")\n",
    "print (scipy.stats.pearsonr(sub2['SIGCCONS'], sub2['FIGHTS'])[0])\n",
    "print('p-value is: \\n' + str(scipy.stats.pearsonr(sub2['SIGCCONS'], sub2['SCHSKIP'])[1]))\n"
   ]
  },
  {
   "cell_type": "code",
   "execution_count": 94,
   "metadata": {},
   "outputs": [
    {
     "name": "stdout",
     "output_type": "stream",
     "text": [
      "                            OLS Regression Results                            \n",
      "==============================================================================\n",
      "Dep. Variable:                SCHSKIP   R-squared:                       0.010\n",
      "Model:                            OLS   Adj. R-squared:                  0.009\n",
      "Method:                 Least Squares   F-statistic:                     7.435\n",
      "Date:                Wed, 15 Apr 2020   Prob (F-statistic):           6.14e-08\n",
      "Time:                        17:17:55   Log-Likelihood:                -15565.\n",
      "No. Observations:                4398   AIC:                         3.114e+04\n",
      "Df Residuals:                    4391   BIC:                         3.119e+04\n",
      "Df Model:                           6                                         \n",
      "Covariance Type:            nonrobust                                         \n",
      "=================================================================================\n",
      "                    coef    std err          t      P>|t|      [0.025      0.975]\n",
      "---------------------------------------------------------------------------------\n",
      "Intercept         1.4465      0.198      7.310      0.000       1.059       1.834\n",
      "C(H1RE4)[T.2]     1.0762      0.288      3.736      0.000       0.511       1.641\n",
      "C(H1RE4)[T.3]     1.6781      0.523      3.210      0.001       0.653       2.703\n",
      "C(H1RE4)[T.4]     2.9521      0.725      4.072      0.000       1.531       4.373\n",
      "C(H1RE4)[T.6]    -1.4465      8.342     -0.173      0.862     -17.801      14.908\n",
      "C(H1RE4)[T.7]     2.0688      0.397      5.214      0.000       1.291       2.847\n",
      "C(H1RE4)[T.8]    -1.4465      3.735     -0.387      0.699      -8.769       5.876\n",
      "==============================================================================\n",
      "Omnibus:                     5776.040   Durbin-Watson:                   1.953\n",
      "Prob(Omnibus):                  0.000   Jarque-Bera (JB):           944778.506\n",
      "Skew:                           7.468   Prob(JB):                         0.00\n",
      "Kurtosis:                      73.232   Cond. No.                         72.1\n",
      "==============================================================================\n",
      "\n",
      "Warnings:\n",
      "[1] Standard Errors assume that the covariance matrix of the errors is correctly specified.\n",
      "                            OLS Regression Results                            \n",
      "==============================================================================\n",
      "Dep. Variable:                SCHSKIP   R-squared:                       0.026\n",
      "Model:                            OLS   Adj. R-squared:                  0.023\n",
      "Method:                 Least Squares   F-statistic:                     8.657\n",
      "Date:                Wed, 15 Apr 2020   Prob (F-statistic):           2.56e-09\n",
      "Time:                        17:17:56   Log-Likelihood:                -6007.5\n",
      "No. Observations:                1959   AIC:                         1.203e+04\n",
      "Df Residuals:                    1952   BIC:                         1.207e+04\n",
      "Df Model:                           6                                         \n",
      "Covariance Type:            nonrobust                                         \n",
      "=================================================================================\n",
      "                    coef    std err          t      P>|t|      [0.025      0.975]\n",
      "---------------------------------------------------------------------------------\n",
      "Intercept         0.6728      0.166      4.049      0.000       0.347       0.999\n",
      "C(H1RE4)[T.2]     0.5921      0.271      2.183      0.029       0.060       1.124\n",
      "C(H1RE4)[T.3]     2.5249      0.585      4.314      0.000       1.377       3.673\n",
      "C(H1RE4)[T.4]     1.5881      0.785      2.023      0.043       0.048       3.128\n",
      "C(H1RE4)[T.6]    -0.6728      5.207     -0.129      0.897     -10.884       9.539\n",
      "C(H1RE4)[T.7]     2.2442      0.367      6.116      0.000       1.525       2.964\n",
      "C(H1RE4)[T.8]    -0.6728      3.009     -0.224      0.823      -6.574       5.229\n",
      "==============================================================================\n",
      "Omnibus:                     3130.844   Durbin-Watson:                   1.986\n",
      "Prob(Omnibus):                  0.000   Jarque-Bera (JB):          1833075.933\n",
      "Skew:                          10.096   Prob(JB):                         0.00\n",
      "Kurtosis:                     151.491   Cond. No.                         47.0\n",
      "==============================================================================\n",
      "\n",
      "Warnings:\n",
      "[1] Standard Errors assume that the covariance matrix of the errors is correctly specified.\n"
     ]
    }
   ],
   "source": [
    "sub1 = add_health[add_health['H1INDCOM'] == 1]\n",
    "#3 & 4 in the answers means that religion is fairly or completely not important\n",
    "sub2 = add_health[add_health['H1INDCOM'] != 1]\n",
    "\n",
    "sub = sub1[['H1RE4', 'SCHSKIP']].dropna()\n",
    "sub['H1RE4'] = sub['H1RE4'].astype('category')\n",
    "model1 = smf.ols(formula='SCHSKIP ~ C(H1RE4)', data=sub)\n",
    "results1 = model1.fit()\n",
    "print (results1.summary())\n",
    "\n",
    "sub = sub2[['H1RE4', 'SCHSKIP']].dropna()\n",
    "sub['H1RE4'] = sub['H1RE4'].astype('category')\n",
    "model1 = smf.ols(formula='SCHSKIP ~ C(H1RE4)', data=sub)\n",
    "results1 = model1.fit()\n",
    "print (results1.summary())\n"
   ]
  },
  {
   "cell_type": "code",
   "execution_count": 37,
   "metadata": {},
   "outputs": [
    {
     "name": "stdout",
     "output_type": "stream",
     "text": [
      "           AID  IMONTH  IDAY  IYEAR  SCID  SSCID  COMMID   MACNO   INTID  \\\n",
      "23    57127241       8    15     95    78     78     478  100151  927151   \n",
      "34    57136630       5    16     95    78     78     478  100153  927153   \n",
      "41    57145151       6    17     95    28     28     428  100163  928163   \n",
      "51    57159779       8    14     95   177     77     477  100440  902440   \n",
      "56    57164981       5    11     95    78     78     478  100154  927154   \n",
      "...        ...     ...   ...    ...   ...    ...     ...     ...     ...   \n",
      "6188  99576944       6     7     95    78     78     478  100151  927151   \n",
      "6189  99576947       6    30     95    78     78     478  100155  927155   \n",
      "6411  99715095       7    29     95   127     27     427  100363  930363   \n",
      "6440  99716235       6    16     95   176     76     476  100375  930375   \n",
      "6453  99716929       6    29     95   170     70     470  100389  931389   \n",
      "\n",
      "      SCH_YR  ...  SMP08 CLUSTER1 CLUSTER2 IMONTH2 IYEAR2 H2GI1M H2GI1Y  \\\n",
      "23         0  ...      0      478      179       5     96      1     82   \n",
      "34         1  ...      0      478      179       7     96      5     80   \n",
      "41         0  ...      0      428      129       6     96      8     80   \n",
      "51         0  ...      0      477      278       5     96      5     82   \n",
      "56         1  ...      0      478      179       6     96      8     81   \n",
      "...      ...  ...    ...      ...      ...     ...    ...    ...    ...   \n",
      "6188       1  ...      0      478      179       6     96      7     81   \n",
      "6189       0  ...      0      478      179                                \n",
      "6411       0  ...      0      427      228       7     96      7     81   \n",
      "6440       0  ...      0      476      277       6     96      4     82   \n",
      "6453       1  ...      0      470      271       5     96      2     82   \n",
      "\n",
      "          finbd      finID               age  \n",
      "23    1/15/1982  5/15/1996  14.3397260273973  \n",
      "34    5/15/1980  7/15/1996  16.1780821917808  \n",
      "41    8/15/1980  6/15/1996  15.8438356164384  \n",
      "51    5/15/1982  5/15/1996  14.0109589041096  \n",
      "56    8/15/1981  6/15/1996  14.8438356164384  \n",
      "...         ...        ...               ...  \n",
      "6188  7/15/1981  6/15/1996  14.9287671232877  \n",
      "6189                                          \n",
      "6411  7/15/1981  7/15/1996  15.0109589041096  \n",
      "6440  4/15/1982  6/15/1996  14.1780821917808  \n",
      "6453  2/15/1982  5/15/1996  14.2547945205479  \n",
      "\n",
      "[270 rows x 2829 columns]\n"
     ]
    }
   ],
   "source": [
    "# H1GI7\n",
    "sub1 = add_health[add_health['H1GI6D'] == 1]\n",
    "#3 & 4 in the answers means that religion is fairly or completely not important\n",
    "sub2 = add_health[add_health['H1GI6D'] != 1]\n",
    "\n",
    "# H1GI6D\n",
    "print(sub1)\n",
    "# ct1=pd.crosstab(sub1['H1INDCOM'], sub1['H1RE4'])\n",
    "# print (ct1)\n",
    "\n",
    "# # column percentages\n",
    "# colsum=ct1.sum(axis=0)\n",
    "# colpct=ct1/colsum\n",
    "# print(colpct)\n",
    "\n",
    "# # chi-square\n",
    "# print ('chi-square value, p value, expected counts')\n",
    "# cs1= scipy.stats.chi2_contingency(ct1)\n",
    "# print (cs1)\n",
    "\n",
    "# print()\n",
    "\n",
    "# ct1=pd.crosstab(sub2['H1INDCOM'], sub2['H1RE4'])\n",
    "# print (ct1)\n",
    "\n",
    "# # column percentages\n",
    "# colsum=ct1.sum(axis=0)\n",
    "# colpct=ct1/colsum\n",
    "# print(colpct)\n",
    "\n",
    "# # chi-square\n",
    "# print ('chi-square value, p value, expected counts')\n",
    "# cs1= scipy.stats.chi2_contingency(ct1)\n",
    "# print (cs1)"
   ]
  },
  {
   "cell_type": "code",
   "execution_count": null,
   "metadata": {},
   "outputs": [],
   "source": []
  }
 ],
 "metadata": {
  "kernelspec": {
   "display_name": "Python 3",
   "language": "python",
   "name": "python3"
  },
  "language_info": {
   "codemirror_mode": {
    "name": "ipython",
    "version": 3
   },
   "file_extension": ".py",
   "mimetype": "text/x-python",
   "name": "python",
   "nbconvert_exporter": "python",
   "pygments_lexer": "ipython3",
   "version": "3.7.7"
  }
 },
 "nbformat": 4,
 "nbformat_minor": 4
}
